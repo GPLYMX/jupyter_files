{
 "cells": [
  {
   "cell_type": "markdown",
   "id": "24105149",
   "metadata": {},
   "source": [
    "# 推理引擎ONNX Runtime部署-预测单张图像\n",
    "\n",
    "使用推理引擎 ONNX Runtime，读取 ONNX 格式的模型文件，对单张图像文件进行预测。\n",
    "\n",
    "同济子豪兄 https://space.bilibili.com/1900783\n",
    "\n",
    "2022-8-22 2023-5-8"
   ]
  },
  {
   "cell_type": "markdown",
   "id": "ff2957f1",
   "metadata": {
    "tags": []
   },
   "source": [
    "## 应用场景\n",
    "\n",
    "以下代码在需要部署的硬件上运行（本地PC、嵌入式开发板、树莓派、Jetson Nano、服务器）\n",
    "\n",
    "只需把`onnx`模型文件发到部署硬件上，并安装 ONNX Runtime 环境，用下面几行代码就可以运行模型了。"
   ]
  },
  {
   "cell_type": "markdown",
   "id": "9f121282",
   "metadata": {},
   "source": [
    "## 导入工具包"
   ]
  },
  {
   "cell_type": "code",
   "execution_count": 1,
   "id": "90734895",
   "metadata": {},
   "outputs": [],
   "source": [
    "import onnxruntime\n",
    "import numpy as np\n",
    "import torch\n",
    "import torch.nn.functional as F\n",
    "\n",
    "import pandas as pd"
   ]
  },
  {
   "cell_type": "markdown",
   "id": "951e2bc3",
   "metadata": {},
   "source": [
    "## 载入 onnx 模型，获取 ONNX Runtime 推理器"
   ]
  },
  {
   "cell_type": "code",
   "execution_count": 2,
   "id": "1608d736",
   "metadata": {},
   "outputs": [],
   "source": [
    "ort_session = onnxruntime.InferenceSession('resnet18_imagenet.onnx')"
   ]
  },
  {
   "cell_type": "markdown",
   "id": "53d8160e",
   "metadata": {},
   "source": [
    "## 构造随机输入，获取输出结果"
   ]
  },
  {
   "cell_type": "code",
   "execution_count": 4,
   "id": "dae73cf1",
   "metadata": {},
   "outputs": [],
   "source": [
    "x = torch.randn(1, 3, 256, 256).numpy()"
   ]
  },
  {
   "cell_type": "code",
   "execution_count": 5,
   "id": "dc5f576a",
   "metadata": {},
   "outputs": [
    {
     "data": {
      "text/plain": [
       "(1, 3, 256, 256)"
      ]
     },
     "execution_count": 5,
     "metadata": {},
     "output_type": "execute_result"
    }
   ],
   "source": [
    "x.shape"
   ]
  },
  {
   "cell_type": "code",
   "execution_count": 6,
   "id": "dfda8548",
   "metadata": {},
   "outputs": [],
   "source": [
    "# onnx runtime 输入\n",
    "ort_inputs = {'input': x}\n",
    "\n",
    "# onnx runtime 输出\n",
    "ort_output = ort_session.run(['output'], ort_inputs)[0]"
   ]
  },
  {
   "cell_type": "markdown",
   "id": "b739d5e9",
   "metadata": {},
   "source": [
    "注意，输入输出张量的名称需要和 torch.onnx.export 中设置的输入输出名对应"
   ]
  },
  {
   "cell_type": "code",
   "execution_count": 7,
   "id": "e086dc6d",
   "metadata": {},
   "outputs": [
    {
     "data": {
      "text/plain": [
       "(1, 1000)"
      ]
     },
     "execution_count": 7,
     "metadata": {},
     "output_type": "execute_result"
    }
   ],
   "source": [
    "ort_output.shape"
   ]
  },
  {
   "cell_type": "code",
   "execution_count": 7,
   "id": "c438db71",
   "metadata": {},
   "outputs": [],
   "source": [
    "# ort_output"
   ]
  },
  {
   "cell_type": "markdown",
   "id": "c7a8917a",
   "metadata": {},
   "source": [
    "## 载入一张真正的测试图像"
   ]
  },
  {
   "cell_type": "code",
   "execution_count": 8,
   "id": "053336dc",
   "metadata": {},
   "outputs": [],
   "source": [
    "img_path = 'banana1.jpg'"
   ]
  },
  {
   "cell_type": "code",
   "execution_count": 9,
   "id": "b8067310",
   "metadata": {},
   "outputs": [],
   "source": [
    "# 用 pillow 载入\n",
    "from PIL import Image\n",
    "img_pil = Image.open(img_path)"
   ]
  },
  {
   "cell_type": "code",
   "execution_count": 11,
   "id": "c3f6d07a",
   "metadata": {},
   "outputs": [],
   "source": [
    "# img_pil"
   ]
  },
  {
   "cell_type": "markdown",
   "id": "4fc49d91",
   "metadata": {},
   "source": [
    "## 预处理函数"
   ]
  },
  {
   "cell_type": "code",
   "execution_count": 12,
   "id": "65220c26",
   "metadata": {},
   "outputs": [],
   "source": [
    "from torchvision import transforms\n",
    "\n",
    "# 测试集图像预处理-RCTN：缩放裁剪、转 Tensor、归一化\n",
    "test_transform = transforms.Compose([transforms.Resize(256),\n",
    "                                     transforms.CenterCrop(256),\n",
    "                                     transforms.ToTensor(),\n",
    "                                     transforms.Normalize(\n",
    "                                         mean=[0.485, 0.456, 0.406], \n",
    "                                         std=[0.229, 0.224, 0.225])\n",
    "                                    ])"
   ]
  },
  {
   "cell_type": "markdown",
   "id": "70a4fc5a",
   "metadata": {},
   "source": [
    "## 运行预处理"
   ]
  },
  {
   "cell_type": "code",
   "execution_count": 13,
   "id": "77c74f4f",
   "metadata": {},
   "outputs": [],
   "source": [
    "input_img = test_transform(img_pil)"
   ]
  },
  {
   "cell_type": "code",
   "execution_count": 14,
   "id": "418fb63e",
   "metadata": {},
   "outputs": [
    {
     "data": {
      "text/plain": [
       "torch.Size([3, 256, 256])"
      ]
     },
     "execution_count": 14,
     "metadata": {},
     "output_type": "execute_result"
    }
   ],
   "source": [
    "input_img.shape"
   ]
  },
  {
   "cell_type": "code",
   "execution_count": 15,
   "id": "368c6aa6",
   "metadata": {},
   "outputs": [],
   "source": [
    "input_tensor = input_img.unsqueeze(0).numpy()"
   ]
  },
  {
   "cell_type": "code",
   "execution_count": 16,
   "id": "b5bdec0c",
   "metadata": {},
   "outputs": [
    {
     "data": {
      "text/plain": [
       "(1, 3, 256, 256)"
      ]
     },
     "execution_count": 16,
     "metadata": {},
     "output_type": "execute_result"
    }
   ],
   "source": [
    "input_tensor.shape"
   ]
  },
  {
   "cell_type": "markdown",
   "id": "0fa3a4b9",
   "metadata": {},
   "source": [
    "## 推理预测"
   ]
  },
  {
   "cell_type": "code",
   "execution_count": 17,
   "id": "a7622dc1",
   "metadata": {},
   "outputs": [],
   "source": [
    "# ONNX Runtime 输入\n",
    "ort_inputs = {'input': input_tensor}\n",
    "\n",
    "# ONNX Runtime 输出\n",
    "pred_logits = ort_session.run(['output'], ort_inputs)[0]\n",
    "pred_logits = torch.tensor(pred_logits)"
   ]
  },
  {
   "cell_type": "code",
   "execution_count": 18,
   "id": "eb719454",
   "metadata": {},
   "outputs": [
    {
     "data": {
      "text/plain": [
       "torch.Size([1, 1000])"
      ]
     },
     "execution_count": 18,
     "metadata": {},
     "output_type": "execute_result"
    }
   ],
   "source": [
    "pred_logits.shape"
   ]
  },
  {
   "cell_type": "code",
   "execution_count": 19,
   "id": "15a0c88d",
   "metadata": {},
   "outputs": [],
   "source": [
    "# 对 logit 分数做 softmax 运算，得到置信度概率\n",
    "pred_softmax = F.softmax(pred_logits, dim=1) "
   ]
  },
  {
   "cell_type": "code",
   "execution_count": 20,
   "id": "2202e402",
   "metadata": {},
   "outputs": [
    {
     "data": {
      "text/plain": [
       "torch.Size([1, 1000])"
      ]
     },
     "execution_count": 20,
     "metadata": {},
     "output_type": "execute_result"
    }
   ],
   "source": [
    "pred_softmax.shape"
   ]
  },
  {
   "cell_type": "markdown",
   "id": "f7bbf6fc",
   "metadata": {},
   "source": [
    "## 解析预测结果"
   ]
  },
  {
   "cell_type": "code",
   "execution_count": 22,
   "id": "87ce28df",
   "metadata": {},
   "outputs": [],
   "source": [
    "# 取置信度最高的前 n 个结果\n",
    "n = 3"
   ]
  },
  {
   "cell_type": "code",
   "execution_count": 23,
   "id": "34dfc7c4",
   "metadata": {},
   "outputs": [],
   "source": [
    "top_n = torch.topk(pred_softmax, n)"
   ]
  },
  {
   "cell_type": "code",
   "execution_count": 24,
   "id": "aeafb71d",
   "metadata": {},
   "outputs": [
    {
     "data": {
      "text/plain": [
       "torch.return_types.topk(\n",
       "values=tensor([[9.9669e-01, 2.6005e-03, 3.0254e-04]]),\n",
       "indices=tensor([[954, 939, 941]]))"
      ]
     },
     "execution_count": 24,
     "metadata": {},
     "output_type": "execute_result"
    }
   ],
   "source": [
    "top_n"
   ]
  },
  {
   "cell_type": "code",
   "execution_count": 25,
   "id": "cbe821a8",
   "metadata": {},
   "outputs": [],
   "source": [
    "# 预测类别\n",
    "pred_ids = top_n.indices.numpy()[0]"
   ]
  },
  {
   "cell_type": "code",
   "execution_count": 26,
   "id": "7439fb41",
   "metadata": {},
   "outputs": [
    {
     "data": {
      "text/plain": [
       "array([954, 939, 941])"
      ]
     },
     "execution_count": 26,
     "metadata": {},
     "output_type": "execute_result"
    }
   ],
   "source": [
    "pred_ids"
   ]
  },
  {
   "cell_type": "code",
   "execution_count": 27,
   "id": "7ae82818",
   "metadata": {},
   "outputs": [],
   "source": [
    "# 预测置信度\n",
    "confs = top_n.values.numpy()[0]"
   ]
  },
  {
   "cell_type": "code",
   "execution_count": 28,
   "id": "7d264e17",
   "metadata": {},
   "outputs": [
    {
     "data": {
      "text/plain": [
       "array([9.9668556e-01, 2.6005376e-03, 3.0253988e-04], dtype=float32)"
      ]
     },
     "execution_count": 28,
     "metadata": {},
     "output_type": "execute_result"
    }
   ],
   "source": [
    "confs"
   ]
  },
  {
   "cell_type": "markdown",
   "id": "6c2b220d",
   "metadata": {},
   "source": [
    "## 载入类别 ID 和 类别名称 对应关系"
   ]
  },
  {
   "cell_type": "code",
   "execution_count": 38,
   "id": "ecf65421",
   "metadata": {},
   "outputs": [],
   "source": [
    "df = pd.read_csv('imagenet_class_index.csv')\n",
    "idx_to_labels = {}\n",
    "for idx, row in df.iterrows():\n",
    "    idx_to_labels[row['ID']] = row['class']   # 英文\n",
    "#     idx_to_labels[row['ID']] = row['Chinese'] # 中文"
   ]
  },
  {
   "cell_type": "code",
   "execution_count": 39,
   "id": "e8416408",
   "metadata": {},
   "outputs": [],
   "source": [
    "# idx_to_labels"
   ]
  },
  {
   "cell_type": "markdown",
   "id": "f39c53eb",
   "metadata": {},
   "source": [
    "## 分别用英文和中文打印预测结果"
   ]
  },
  {
   "cell_type": "code",
   "execution_count": 40,
   "id": "21df9f2a",
   "metadata": {},
   "outputs": [
    {
     "name": "stdout",
     "output_type": "stream",
     "text": [
      "banana               99.669\n",
      "zucchini             0.260\n",
      "acorn_squash         0.030\n"
     ]
    }
   ],
   "source": [
    "for i in range(n):\n",
    "    class_name = idx_to_labels[pred_ids[i]] # 获取类别名称\n",
    "    confidence = confs[i] * 100             # 获取置信度\n",
    "    text = '{:<20} {:>.3f}'.format(class_name, confidence)\n",
    "    print(text)"
   ]
  }
 ],
 "metadata": {
  "kernelspec": {
   "display_name": "Python 3 (ipykernel)",
   "language": "python",
   "name": "python3"
  },
  "language_info": {
   "codemirror_mode": {
    "name": "ipython",
    "version": 3
   },
   "file_extension": ".py",
   "mimetype": "text/x-python",
   "name": "python",
   "nbconvert_exporter": "python",
   "pygments_lexer": "ipython3",
   "version": "3.11.4"
  }
 },
 "nbformat": 4,
 "nbformat_minor": 5
}
