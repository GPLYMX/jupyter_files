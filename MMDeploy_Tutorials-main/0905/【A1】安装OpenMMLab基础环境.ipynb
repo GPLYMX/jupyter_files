{
 "cells": [
  {
   "cell_type": "markdown",
   "id": "166a315f-47d8-4ca9-9d98-796460bda822",
   "metadata": {},
   "source": [
    "# 安装配置OpenMMLab基础环境\n",
    "\n",
    "按照顺序逐行运行本代码，即可安装配置 MMCV、MMClassification、MMDetection 环境\n",
    "\n",
    "推荐代码运行[云GPU环境](https://featurize.cn?s=d7ce99f842414bfcaea5662a97581bd1)：GPU RTX 3060、CUDA v11.2\n",
    "\n",
    "OpenMMLab 主页：https://openmmlab.com/\n",
    "\n",
    "MMDeploy主页：https://github.com/open-mmlab/mmdeploy\n",
    "\n",
    "作者：同济子豪兄 2022-9-5\n",
    "\n",
    "> 提示：以下代码运行时，若长时间运行卡着不动，可重启 kernel 后重新运行一遍"
   ]
  },
  {
   "cell_type": "code",
   "execution_count": 1,
   "id": "101f0f55-2dc1-4f90-8792-923966eeb1da",
   "metadata": {},
   "outputs": [],
   "source": [
    "import os"
   ]
  },
  {
   "cell_type": "markdown",
   "id": "ec848533-5bc1-4cea-a337-65e66cff0178",
   "metadata": {
    "tags": []
   },
   "source": [
    "## 安装Pytorch"
   ]
  },
  {
   "cell_type": "code",
   "execution_count": 2,
   "id": "8f5d3e3a-820f-4614-8865-f1801dc1db77",
   "metadata": {},
   "outputs": [
    {
     "name": "stdout",
     "output_type": "stream",
     "text": [
      "Looking in indexes: https://pypi.tuna.tsinghua.edu.cn/simple, https://download.pytorch.org/whl/cu113\n",
      "Requirement already satisfied: torch in /environment/miniconda3/lib/python3.7/site-packages (1.10.0+cu113)\n",
      "Requirement already satisfied: torchvision in /environment/miniconda3/lib/python3.7/site-packages (0.11.1+cu113)\n",
      "Requirement already satisfied: typing-extensions in /environment/miniconda3/lib/python3.7/site-packages (from torch) (4.0.1)\n",
      "Requirement already satisfied: numpy in /environment/miniconda3/lib/python3.7/site-packages (from torchvision) (1.21.4)\n",
      "Requirement already satisfied: pillow!=8.3.0,>=5.3.0 in /environment/miniconda3/lib/python3.7/site-packages (from torchvision) (8.4.0)\n"
     ]
    }
   ],
   "source": [
    "!pip3 install torch torchvision --extra-index-url https://download.pytorch.org/whl/cu113"
   ]
  },
  {
   "cell_type": "markdown",
   "id": "af4051b1-132a-4988-8f1f-e417ee71f58d",
   "metadata": {},
   "source": [
    "## 安装 mmcv-full"
   ]
  },
  {
   "cell_type": "code",
   "execution_count": null,
   "id": "00658938-c53f-4e28-b233-f39be92ff012",
   "metadata": {},
   "outputs": [],
   "source": [
    "!pip3 install openmim\n",
    "!mim install mmcv-full"
   ]
  },
  {
   "cell_type": "code",
   "execution_count": 3,
   "id": "5a1f132d-252d-430c-a5de-a2e5a8809cdb",
   "metadata": {},
   "outputs": [
    {
     "name": "stdout",
     "output_type": "stream",
     "text": [
      "Looking in indexes: https://pypi.tuna.tsinghua.edu.cn/simple\n",
      "Looking in links: https://download.openmmlab.com/mmcv/dist/cu113/torch1.10.0/index.html\n",
      "Collecting mmcv-full\n",
      "  Downloading https://download.openmmlab.com/mmcv/dist/cu113/torch1.10.0/mmcv_full-1.6.1-cp37-cp37m-manylinux1_x86_64.whl (54.2 MB)\n",
      "\u001b[K     |████████████████████████████████| 54.2 MB 52.2 MB/s eta 0:00:01\n",
      "\u001b[?25hCollecting addict\n",
      "  Downloading https://pypi.tuna.tsinghua.edu.cn/packages/6a/00/b08f23b7d7e1e14ce01419a467b583edbb93c6cdb8654e54a9cc579cd61f/addict-2.4.0-py3-none-any.whl (3.8 kB)\n",
      "Requirement already satisfied: numpy in /environment/miniconda3/lib/python3.7/site-packages (from mmcv-full) (1.21.4)\n",
      "Requirement already satisfied: pyyaml in /environment/miniconda3/lib/python3.7/site-packages (from mmcv-full) (6.0)\n",
      "Requirement already satisfied: opencv-python>=3 in /environment/miniconda3/lib/python3.7/site-packages (from mmcv-full) (4.5.4.60)\n",
      "Requirement already satisfied: Pillow in /environment/miniconda3/lib/python3.7/site-packages (from mmcv-full) (8.4.0)\n",
      "Requirement already satisfied: packaging in /environment/miniconda3/lib/python3.7/site-packages (from mmcv-full) (21.3)\n",
      "Requirement already satisfied: yapf in /environment/miniconda3/lib/python3.7/site-packages (from mmcv-full) (0.31.0)\n",
      "Requirement already satisfied: pyparsing!=3.0.5,>=2.0.2 in /environment/miniconda3/lib/python3.7/site-packages (from packaging->mmcv-full) (3.0.6)\n",
      "Installing collected packages: addict, mmcv-full\n",
      "Successfully installed addict-2.4.0 mmcv-full-1.6.1\n"
     ]
    }
   ],
   "source": [
    "# 安装mmcv -full\n",
    "# !pip install mmcv-full -f https://download.openmmlab.com/mmcv/dist/cu113/torch1.10.0/index.html"
   ]
  },
  {
   "cell_type": "markdown",
   "id": "107432d2-3a5a-406c-b79e-6cecabe94c3c",
   "metadata": {},
   "source": [
    "## 安装 MMClassification"
   ]
  },
  {
   "cell_type": "code",
   "execution_count": 7,
   "id": "8ae3868b-964f-4995-aa73-933fd21da46f",
   "metadata": {},
   "outputs": [],
   "source": [
    "# 删除原有的 mmclassification 目录（如有）\n",
    "!rm -rf mmclassification"
   ]
  },
  {
   "cell_type": "code",
   "execution_count": 8,
   "id": "f8697dd5-a321-4626-a0d3-f28cb1e2b231",
   "metadata": {},
   "outputs": [
    {
     "name": "stdout",
     "output_type": "stream",
     "text": [
      "正克隆到 'mmclassification'...\n",
      "remote: Enumerating objects: 9561, done.\u001b[K\n",
      "remote: Counting objects: 100% (120/120), done.\u001b[K\n",
      "remote: Compressing objects: 100% (91/91), done.\u001b[K\n",
      "remote: Total 9561 (delta 30), reused 89 (delta 21), pack-reused 9441\u001b[K\n",
      "接收对象中: 100% (9561/9561), 10.27 MiB | 3.54 MiB/s, 完成.\n",
      "处理 delta 中: 100% (6625/6625), 完成.\n"
     ]
    }
   ],
   "source": [
    "!git clone https://github.com/open-mmlab/mmclassification.git"
   ]
  },
  {
   "cell_type": "code",
   "execution_count": 9,
   "id": "ef343f60-2b5a-49a6-810d-29c19c9c3066",
   "metadata": {},
   "outputs": [
    {
     "name": "stdout",
     "output_type": "stream",
     "text": [
      "/home/featurize/work/MMDeploy_Tutorials/mmclassification\n",
      "Looking in indexes: https://pypi.tuna.tsinghua.edu.cn/simple\n",
      "Obtaining file:///home/featurize/work/MMDeploy_Tutorials/mmclassification\n",
      "Requirement already satisfied: matplotlib in /environment/miniconda3/lib/python3.7/site-packages (from mmcls==0.23.2) (3.5.0)\n",
      "Requirement already satisfied: numpy in /environment/miniconda3/lib/python3.7/site-packages (from mmcls==0.23.2) (1.21.4)\n",
      "Requirement already satisfied: packaging in /environment/miniconda3/lib/python3.7/site-packages (from mmcls==0.23.2) (21.3)\n",
      "Requirement already satisfied: setuptools-scm>=4 in /environment/miniconda3/lib/python3.7/site-packages (from matplotlib->mmcls==0.23.2) (6.3.2)\n",
      "Requirement already satisfied: fonttools>=4.22.0 in /environment/miniconda3/lib/python3.7/site-packages (from matplotlib->mmcls==0.23.2) (4.28.3)\n",
      "Requirement already satisfied: python-dateutil>=2.7 in /environment/miniconda3/lib/python3.7/site-packages (from matplotlib->mmcls==0.23.2) (2.8.2)\n",
      "Requirement already satisfied: pillow>=6.2.0 in /environment/miniconda3/lib/python3.7/site-packages (from matplotlib->mmcls==0.23.2) (8.4.0)\n",
      "Requirement already satisfied: cycler>=0.10 in /environment/miniconda3/lib/python3.7/site-packages (from matplotlib->mmcls==0.23.2) (0.11.0)\n",
      "Requirement already satisfied: kiwisolver>=1.0.1 in /environment/miniconda3/lib/python3.7/site-packages (from matplotlib->mmcls==0.23.2) (1.3.2)\n",
      "Requirement already satisfied: pyparsing>=2.2.1 in /environment/miniconda3/lib/python3.7/site-packages (from matplotlib->mmcls==0.23.2) (3.0.6)\n",
      "Requirement already satisfied: six>=1.5 in /environment/miniconda3/lib/python3.7/site-packages (from python-dateutil>=2.7->matplotlib->mmcls==0.23.2) (1.16.0)\n",
      "Requirement already satisfied: setuptools in /environment/miniconda3/lib/python3.7/site-packages (from setuptools-scm>=4->matplotlib->mmcls==0.23.2) (52.0.0.post20210125)\n",
      "Requirement already satisfied: tomli>=1.0.0 in /environment/miniconda3/lib/python3.7/site-packages (from setuptools-scm>=4->matplotlib->mmcls==0.23.2) (1.2.2)\n",
      "Installing collected packages: mmcls\n",
      "  Running setup.py develop for mmcls\n",
      "Successfully installed mmcls-0.23.2\n",
      "/home/featurize/work/MMDeploy_Tutorials\n"
     ]
    }
   ],
   "source": [
    "%cd mmclassification\n",
    "!pip install -e .\n",
    "\n",
    "# 创建空文件夹\n",
    "os.mkdir('checkpoint')\n",
    "os.mkdir('output')\n",
    "\n",
    "%cd .."
   ]
  },
  {
   "cell_type": "markdown",
   "id": "26297a4f-bf14-4dc0-9a10-a94a0ed094ed",
   "metadata": {},
   "source": [
    "## 安装MMDetection"
   ]
  },
  {
   "cell_type": "code",
   "execution_count": 10,
   "id": "f44e9bad-fadf-4d7f-94d6-f25e36f070e5",
   "metadata": {},
   "outputs": [],
   "source": [
    "# 删除原有的 mmdetection 目录（如有）\n",
    "!rm -rf mmdetection"
   ]
  },
  {
   "cell_type": "code",
   "execution_count": 11,
   "id": "53312f33-31c9-4e2b-ac8a-fb05d8f399ed",
   "metadata": {},
   "outputs": [
    {
     "name": "stdout",
     "output_type": "stream",
     "text": [
      "正克隆到 'mmdetection'...\n",
      "remote: Enumerating objects: 31143, done.\u001b[K\n",
      "remote: Counting objects: 100% (59/59), done.\u001b[K\n",
      "remote: Compressing objects: 100% (52/52), done.\u001b[K\n",
      "remote: Total 31143 (delta 10), reused 32 (delta 7), pack-reused 31084\u001b[K\n",
      "接收对象中: 100% (31143/31143), 40.50 MiB | 13.21 MiB/s, 完成.\n",
      "处理 delta 中: 100% (22384/22384), 完成.\n",
      "正在更新文件: 100% (1475/1475), 完成.\n"
     ]
    }
   ],
   "source": [
    "!git clone https://github.com/open-mmlab/mmdetection.git"
   ]
  },
  {
   "cell_type": "code",
   "execution_count": 12,
   "id": "8a4bff99-fa4f-4722-bc5c-bf480e8832ca",
   "metadata": {},
   "outputs": [
    {
     "name": "stdout",
     "output_type": "stream",
     "text": [
      "/home/featurize/work/MMDeploy_Tutorials/mmdetection\n",
      "/home/featurize/work/MMDeploy_Tutorials\n"
     ]
    }
   ],
   "source": [
    "%cd mmdetection\n",
    "!pip install -e . >> /dev/null\n",
    "\n",
    "# 创建空文件夹\n",
    "os.mkdir('checkpoint')\n",
    "os.mkdir('output')\n",
    "\n",
    "%cd .."
   ]
  },
  {
   "cell_type": "markdown",
   "id": "cd3120d2-2ee9-4824-9284-aab18860a5cd",
   "metadata": {},
   "source": [
    "## 重启kernel，验证安装配置成功"
   ]
  },
  {
   "cell_type": "code",
   "execution_count": 1,
   "id": "d368a814-721f-4ae3-abf4-e7719c7a9be4",
   "metadata": {},
   "outputs": [
    {
     "name": "stdout",
     "output_type": "stream",
     "text": [
      "Pytorch 版本 1.10.0+cu113\n",
      "torchvision版本 0.11.1+cu113\n",
      "CUDA 是否可用 True\n"
     ]
    }
   ],
   "source": [
    "# 检查 pytorch\n",
    "import torch, torchvision\n",
    "print('Pytorch 版本', torch.__version__)\n",
    "print('torchvision版本', torchvision.__version__)\n",
    "print('CUDA 是否可用',torch.cuda.is_available())"
   ]
  },
  {
   "cell_type": "code",
   "execution_count": 2,
   "id": "f32552b1-e3b5-47cb-86d2-2b915e0c2c48",
   "metadata": {},
   "outputs": [
    {
     "name": "stdout",
     "output_type": "stream",
     "text": [
      "CUDA版本 11.3\n",
      "编译器版本 GCC 9.3\n"
     ]
    }
   ],
   "source": [
    "# 检查 mmcv\n",
    "from mmcv.ops import get_compiling_cuda_version, get_compiler_version\n",
    "print('CUDA版本', get_compiling_cuda_version())\n",
    "print('编译器版本', get_compiler_version())"
   ]
  },
  {
   "cell_type": "code",
   "execution_count": 3,
   "id": "23fd8ded-d0e9-4838-a306-1c7fa877a3c8",
   "metadata": {},
   "outputs": [
    {
     "name": "stdout",
     "output_type": "stream",
     "text": [
      "0.23.2\n"
     ]
    }
   ],
   "source": [
    "# 检查 mmclassification\n",
    "import mmcls\n",
    "print(mmcls.__version__)"
   ]
  },
  {
   "cell_type": "code",
   "execution_count": 4,
   "id": "3b34f4ff-96e8-42f3-b7c5-ef6f47ca15fa",
   "metadata": {},
   "outputs": [
    {
     "name": "stdout",
     "output_type": "stream",
     "text": [
      "2.25.1\n"
     ]
    }
   ],
   "source": [
    "# 检查 mmdetection\n",
    "import mmdet\n",
    "print(mmdet.__version__)"
   ]
  },
  {
   "cell_type": "code",
   "execution_count": null,
   "id": "826190bf-611a-44e5-b9a0-bedf45a23073",
   "metadata": {},
   "outputs": [],
   "source": []
  }
 ],
 "metadata": {
  "kernelspec": {
   "display_name": "Python 3 (ipykernel)",
   "language": "python",
   "name": "python3"
  },
  "language_info": {
   "codemirror_mode": {
    "name": "ipython",
    "version": 3
   },
   "file_extension": ".py",
   "mimetype": "text/x-python",
   "name": "python",
   "nbconvert_exporter": "python",
   "pygments_lexer": "ipython3",
   "version": "3.7.10"
  }
 },
 "nbformat": 4,
 "nbformat_minor": 5
}
