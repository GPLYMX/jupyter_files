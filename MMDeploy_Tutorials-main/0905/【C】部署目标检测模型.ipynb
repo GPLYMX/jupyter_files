{
 "cells": [
  {
   "cell_type": "markdown",
   "id": "1b2b1c19-057f-4346-ac43-9313caafa16d",
   "metadata": {},
   "source": [
    "# MMDeploy部署MMDetection目标检测模型\n",
    "\n",
    "推荐代码运行[云GPU环境](https://featurize.cn?s=d7ce99f842414bfcaea5662a97581bd1)：GPU RTX 3060、CUDA v11.2\n",
    "\n",
    "OpenMMLab 主页：https://openmmlab.com/\n",
    "\n",
    "MMDeploy主页：https://github.com/open-mmlab/mmdeploy\n",
    "\n",
    "作者：同济子豪兄 2022-9-5"
   ]
  },
  {
   "cell_type": "markdown",
   "id": "18124530-5764-4c77-b611-feade536d150",
   "metadata": {},
   "source": [
    "## 进入 mmdetection 目录"
   ]
  },
  {
   "cell_type": "code",
   "execution_count": 1,
   "id": "6167bc16-b333-4ff8-bf25-71d18d6d595d",
   "metadata": {},
   "outputs": [],
   "source": [
    "import os\n",
    "os.chdir('mmdetection')"
   ]
  },
  {
   "cell_type": "markdown",
   "id": "6edb4f29-43a6-4d9c-9e95-133ab710e133",
   "metadata": {},
   "source": [
    "## 下载模型库中目标检测模型"
   ]
  },
  {
   "cell_type": "code",
   "execution_count": 5,
   "id": "27db2c0f-579e-44a9-81c3-e1a1ecac2670",
   "metadata": {},
   "outputs": [
    {
     "name": "stdout",
     "output_type": "stream",
     "text": [
      "--2022-09-05 23:40:15--  https://download.openmmlab.com/mmdetection/v2.0/retinanet/retinanet_r18_fpn_1x_coco/retinanet_r18_fpn_1x_coco_20220407_171055-614fd399.pth\n",
      "正在连接 172.16.0.13:5848... 已连接。\n",
      "已发出 Proxy 请求，正在等待回应... 200 OK\n",
      "长度： 85719203 (82M) [application/octet-stream]\n",
      "正在保存至: “checkpoint/retinanet_r18_fpn_1x_coco_20220407_171055-614fd399.pth.3”\n",
      "\n",
      "retinanet_r18_fpn_1 100%[===================>]  81.75M  47.4MB/s    用时 1.7s    \n",
      "\n",
      "2022-09-05 23:40:16 (47.4 MB/s) - 已保存 “checkpoint/retinanet_r18_fpn_1x_coco_20220407_171055-614fd399.pth.3” [85719203/85719203])\n",
      "\n",
      "--2022-09-05 23:40:17--  https://download.openmmlab.com/mmdetection/v2.0/faster_rcnn/faster_rcnn_r50_fpn_1x_coco/faster_rcnn_r50_fpn_1x_coco_20200130-047c8118.pth\n",
      "正在连接 172.16.0.13:5848... 已连接。\n",
      "已发出 Proxy 请求，正在等待回应... 200 OK\n",
      "长度： 167287506 (160M) [application/octet-stream]\n",
      "正在保存至: “checkpoint/faster_rcnn_r50_fpn_1x_coco_20200130-047c8118.pth.1”\n",
      "\n",
      "faster_rcnn_r50_fpn 100%[===================>] 159.54M  50.7MB/s    用时 3.1s    \n",
      "\n",
      "2022-09-05 23:40:20 (50.7 MB/s) - 已保存 “checkpoint/faster_rcnn_r50_fpn_1x_coco_20200130-047c8118.pth.1” [167287506/167287506])\n",
      "\n"
     ]
    }
   ],
   "source": [
    "# 下载 retinanet 模型权重文件\n",
    "!wget https://download.openmmlab.com/mmdetection/v2.0/retinanet/retinanet_r18_fpn_1x_coco/retinanet_r18_fpn_1x_coco_20220407_171055-614fd399.pth -P checkpoint\n",
    "\n",
    "# 下载 Faster R-CNN 模型权重文件\n",
    "!wget https://download.openmmlab.com/mmdetection/v2.0/faster_rcnn/faster_rcnn_r50_fpn_1x_coco/faster_rcnn_r50_fpn_1x_coco_20200130-047c8118.pth -P checkpoint\n"
   ]
  },
  {
   "cell_type": "markdown",
   "id": "a0c993f7-6be2-4f1c-8463-ab550730bb63",
   "metadata": {},
   "source": [
    "## 模型转为ONNX中间格式"
   ]
  },
  {
   "cell_type": "code",
   "execution_count": 8,
   "id": "caa419d8-a682-4745-b874-2e988fb1a24c",
   "metadata": {},
   "outputs": [
    {
     "name": "stdout",
     "output_type": "stream",
     "text": [
      "/home/featurize/work/MMDeploy_Tutorials\n"
     ]
    }
   ],
   "source": [
    "%cd .."
   ]
  },
  {
   "cell_type": "code",
   "execution_count": 10,
   "id": "bbfab55d-4130-49d7-ae4d-43d5b0a97c0d",
   "metadata": {},
   "outputs": [
    {
     "name": "stdout",
     "output_type": "stream",
     "text": [
      "Traceback (most recent call last):\n",
      "  File \"mmdeploy/tools/deploy.py\", line 437, in <module>\n",
      "    main()\n",
      "  File \"mmdeploy/tools/deploy.py\", line 130, in main\n",
      "    device=args.device)\n",
      "TypeError: export2SDK() got an unexpected keyword argument 'device'\n"
     ]
    }
   ],
   "source": [
    "!python mmdeploy/tools/deploy.py \\\n",
    "        mmdeploy/configs/mmdet/detection/detection_tensorrt_dynamic-320x320-1344x1344.py \\\n",
    "        mmdetection/configs/faster_rcnn/faster_rcnn_r50_fpn_1x_coco.py \\\n",
    "        mmdetection/checkpoint/faster_rcnn_r50_fpn_1x_coco_20200130-047c8118.pth \\\n",
    "        mmdetection/demo/demo.jpg \\\n",
    "        --work-dir mmdeploy_models/mmdetection/faster-rcnn \\\n",
    "        --device cuda \\\n",
    "        --dump-info"
   ]
  },
  {
   "cell_type": "code",
   "execution_count": null,
   "id": "2d581498-adce-4ef5-9e82-351d3bf8ec3d",
   "metadata": {},
   "outputs": [],
   "source": []
  }
 ],
 "metadata": {
  "kernelspec": {
   "display_name": "Python 3 (ipykernel)",
   "language": "python",
   "name": "python3"
  },
  "language_info": {
   "codemirror_mode": {
    "name": "ipython",
    "version": 3
   },
   "file_extension": ".py",
   "mimetype": "text/x-python",
   "name": "python",
   "nbconvert_exporter": "python",
   "pygments_lexer": "ipython3",
   "version": "3.7.10"
  }
 },
 "nbformat": 4,
 "nbformat_minor": 5
}
