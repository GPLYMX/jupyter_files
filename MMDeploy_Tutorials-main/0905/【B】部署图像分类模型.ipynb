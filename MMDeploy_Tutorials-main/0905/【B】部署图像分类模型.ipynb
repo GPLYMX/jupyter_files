{
 "cells": [
  {
   "cell_type": "markdown",
   "id": "3c385154-338f-4242-91a8-047b151090b1",
   "metadata": {},
   "source": [
    "# MMDeploy部署MMClassification图像分类模型\n",
    "\n",
    "推荐代码运行[云GPU环境](https://featurize.cn?s=d7ce99f842414bfcaea5662a97581bd1)：GPU RTX 3060、CUDA v11.2\n",
    "\n",
    "OpenMMLab 主页：https://openmmlab.com/\n",
    "\n",
    "MMDeploy主页：https://github.com/open-mmlab/mmdeploy\n",
    "\n",
    "作者：同济子豪兄 2022-9-5"
   ]
  },
  {
   "cell_type": "markdown",
   "id": "10ccab5e-02a7-4c8e-8e0c-374a78c1b92a",
   "metadata": {},
   "source": [
    "## 进入 mmclassification 目录"
   ]
  },
  {
   "cell_type": "code",
   "execution_count": 1,
   "id": "bfe19262-966c-4564-8a9a-e0fa6622af41",
   "metadata": {},
   "outputs": [],
   "source": [
    "import os\n",
    "os.chdir('mmclassification')"
   ]
  },
  {
   "cell_type": "markdown",
   "id": "c8199891-6bb3-43f0-b5b3-d62e99eac534",
   "metadata": {},
   "source": [
    "## 下载MMClassification训练好的模型config配置文件和权重文件"
   ]
  },
  {
   "cell_type": "code",
   "execution_count": 2,
   "id": "de0b07e0-e084-42e2-aae5-4a2358fc9dce",
   "metadata": {},
   "outputs": [
    {
     "name": "stdout",
     "output_type": "stream",
     "text": [
      "--2022-09-05 23:05:49--  https://zihao-openmmlab.obs.cn-east-3.myhuaweicloud.com/20220716-mmclassification/configs/mobilenet_v2_1x_fruit30.py\n",
      "正在连接 172.16.0.13:5848... 已连接。\n",
      "已发出 Proxy 请求，正在等待回应... 200 OK\n",
      "长度： 1766 (1.7K) [binary/octet-stream]\n",
      "正在保存至: “configs/mobilenet_v2/mobilenet_v2_1x_fruit30.py”\n",
      "\n",
      "mobilenet_v2_1x_fru 100%[===================>]   1.72K  --.-KB/s    用时 0s      \n",
      "\n",
      "2022-09-05 23:05:49 (41.7 MB/s) - 已保存 “configs/mobilenet_v2/mobilenet_v2_1x_fruit30.py” [1766/1766])\n",
      "\n",
      "--2022-09-05 23:05:50--  https://zihao-openmmlab.obs.cn-east-3.myhuaweicloud.com/20220716-mmclassification/checkpoints/fruit30_mmcls/fruit30_mmcls.pth\n",
      "正在连接 172.16.0.13:5848... 已连接。\n",
      "已发出 Proxy 请求，正在等待回应... 200 OK\n",
      "长度： 27493269 (26M) [binary/octet-stream]\n",
      "正在保存至: “checkpoint/fruit30_mmcls.pth”\n",
      "\n",
      "fruit30_mmcls.pth   100%[===================>]  26.22M  16.6MB/s    用时 1.6s    \n",
      "\n",
      "2022-09-05 23:05:51 (16.6 MB/s) - 已保存 “checkpoint/fruit30_mmcls.pth” [27493269/27493269])\n",
      "\n"
     ]
    }
   ],
   "source": [
    "!wget https://zihao-openmmlab.obs.cn-east-3.myhuaweicloud.com/20220716-mmclassification/configs/mobilenet_v2_1x_fruit30.py -P configs/mobilenet_v2\n",
    "\n",
    "!wget https://zihao-openmmlab.obs.cn-east-3.myhuaweicloud.com/20220716-mmclassification/checkpoints/fruit30_mmcls/fruit30_mmcls.pth -P checkpoint\n"
   ]
  },
  {
   "cell_type": "markdown",
   "id": "e3e42f16-1c79-4a9c-84c4-9718f188b75c",
   "metadata": {},
   "source": [
    "## 返回上一级目录"
   ]
  },
  {
   "cell_type": "code",
   "execution_count": 3,
   "id": "8ce005c5-cd8d-4960-9620-064def03cf41",
   "metadata": {},
   "outputs": [
    {
     "name": "stdout",
     "output_type": "stream",
     "text": [
      "/home/featurize/work/MMDeploy_Tutorials\n"
     ]
    }
   ],
   "source": [
    "%cd .."
   ]
  },
  {
   "cell_type": "markdown",
   "id": "d594d0d3-4e76-4758-bba6-7546a6607554",
   "metadata": {},
   "source": [
    "## 模型转为ONNX中间格式"
   ]
  },
  {
   "cell_type": "code",
   "execution_count": 1,
   "id": "58e99f9b-23ab-4a92-ab8a-5788242d36e5",
   "metadata": {},
   "outputs": [
    {
     "name": "stdout",
     "output_type": "stream",
     "text": [
      "2022-09-05 23:26:36,392 - mmdeploy - INFO - Start pipeline mmdeploy.apis.pytorch2onnx.torch2onnx in subprocess\n",
      "load checkpoint from local path: mmclassification/checkpoint/fruit30_mmcls.pth\n",
      "2022-09-05 23:26:39,205 - mmdeploy - WARNING - DeprecationWarning: get_onnx_config will be deprecated in the future. \n",
      "2022-09-05 23:26:39,205 - mmdeploy - INFO - Export PyTorch model to ONNX: mmdeploy_models/mmcls/fruit30_mmcls/end2end.onnx.\n",
      "2022-09-05 23:26:41,587 - mmdeploy - INFO - Execute onnx optimize passes.\n",
      "2022-09-05 23:26:41,772 - mmdeploy - INFO - Finish pipeline mmdeploy.apis.pytorch2onnx.torch2onnx\n",
      "2022-09-05 23:26:42,331 - mmdeploy - WARNING - \"visualize_model\" has been skipped may be because it's             running on a headless device.\n",
      "2022-09-05 23:26:42,332 - mmdeploy - INFO - All process success.\n"
     ]
    }
   ],
   "source": [
    "!python mmdeploy/tools/deploy.py \\\n",
    "        mmdeploy/configs/mmcls/classification_onnxruntime_dynamic.py \\\n",
    "        mmclassification/configs/mobilenet_v2/mobilenet_v2_1x_fruit30.py \\\n",
    "        mmclassification/checkpoint/fruit30_mmcls.pth \\\n",
    "        mmclassification/demo/demo.JPEG \\\n",
    "        --work-dir mmdeploy_models/mmcls/fruit30_mmcls \\\n",
    "        --device cpu \\\n",
    "        --dump-info\n"
   ]
  },
  {
   "cell_type": "markdown",
   "id": "1634bdab-0b17-4365-b9c2-6fed95fc895f",
   "metadata": {},
   "source": [
    "## 推理预测"
   ]
  },
  {
   "cell_type": "code",
   "execution_count": 7,
   "id": "9e915d5e-5ba9-437f-8d11-7f34dc1726ff",
   "metadata": {},
   "outputs": [
    {
     "name": "stdout",
     "output_type": "stream",
     "text": [
      "--2022-09-05 17:38:34--  https://zihao-openmmlab.obs.cn-east-3.myhuaweicloud.com/20220716-mmclassification/test/watermelon1.jpg\n",
      "正在连接 172.16.0.13:5848... 已连接。\n",
      "已发出 Proxy 请求，正在等待回应... 200 OK\n",
      "长度： 429666 (420K) [image/jpeg]\n",
      "正在保存至: “watermelon1.jpg”\n",
      "\n",
      "watermelon1.jpg     100%[===================>] 419.60K  1.96MB/s    用时 0.2s    \n",
      "\n",
      "2022-09-05 17:38:44 (1.96 MB/s) - 已保存 “watermelon1.jpg” [429666/429666])\n",
      "\n"
     ]
    }
   ],
   "source": [
    "# 下载测试图片\n",
    "!wget https://zihao-openmmlab.obs.cn-east-3.myhuaweicloud.com/20220716-mmclassification/test/watermelon1.jpg\n"
   ]
  },
  {
   "cell_type": "markdown",
   "id": "b751cdd0-ffcf-4e83-b1be-566ad2414945",
   "metadata": {},
   "source": [
    "## 在命令行shell中运行\n",
    "\n",
    "```shell\n",
    "python mmdeploy/demo/python/image_classification.py --image_path watermelon1.jpg --model_path mmdeploy_models/mmcls/fruit30_mmcls/end2end.onnx --device_name cpu\n",
    "\n",
    "python\n",
    "```\n",
    "\n",
    "```python\n",
    "import cv2\n",
    "from mmdeploy_python import Classifier\n",
    "img = cv2.imread('watermelon1.jpg')\n",
    "onnx_path = 'mmdeploy_models/mmcls/fruit30_mmcls/end2end.onnx'\n",
    "classifier = Classifier(onnx_path, 'cpu')\n",
    "result = classifier(img)\n",
    "for label_id, score in result:\n",
    "    print(label_id, score)\n",
    "```"
   ]
  },
  {
   "cell_type": "code",
   "execution_count": null,
   "id": "3e8ca412-bbec-46bf-9fed-b53faaa7f960",
   "metadata": {},
   "outputs": [],
   "source": []
  },
  {
   "cell_type": "code",
   "execution_count": null,
   "id": "a4d420a7-3657-4fd6-a1fa-7aa8844eac6f",
   "metadata": {},
   "outputs": [],
   "source": [
    "python mmdeploy/demo/python/image_classification.py cpu mmdeploy_models/mmcls/fruit30_mmcls/end2end.onnx watermelon1.jpg\n",
    "\n",
    "--image_path  --model_path  --device_name cpu\n"
   ]
  },
  {
   "cell_type": "code",
   "execution_count": 1,
   "id": "fd1e722d-e9ee-404a-a562-4ab6686fe821",
   "metadata": {},
   "outputs": [
    {
     "name": "stdout",
     "output_type": "stream",
     "text": [
      "Traceback (most recent call last):\n",
      "  File \"mmdeploy/demo/python/image_classification.py\", line 5, in <module>\n",
      "    from mmdeploy_python import Classifier\n",
      "  File \"/environment/miniconda3/lib/python3.7/site-packages/mmdeploy_python/__init__.py\", line 21, in <module>\n",
      "    from .mmdeploy_python import *  # noqa\n",
      "ImportError: libonnxruntime.so.1.8.1: cannot open shared object file: No such file or directory\n"
     ]
    }
   ],
   "source": [
    "!python mmdeploy/demo/python/image_classification.py \\\n",
    "        --image_path watermelon1.jpg \\\n",
    "        --model_path mmdeploy_models/mmcls/fruit30_mmcls/end2end.onnx \\\n",
    "        --device cpu\n"
   ]
  },
  {
   "cell_type": "code",
   "execution_count": null,
   "id": "5c8e4190-68e7-4903-9ba4-13ceeff8c245",
   "metadata": {},
   "outputs": [],
   "source": []
  }
 ],
 "metadata": {
  "kernelspec": {
   "display_name": "Python 3 (ipykernel)",
   "language": "python",
   "name": "python3"
  },
  "language_info": {
   "codemirror_mode": {
    "name": "ipython",
    "version": 3
   },
   "file_extension": ".py",
   "mimetype": "text/x-python",
   "name": "python",
   "nbconvert_exporter": "python",
   "pygments_lexer": "ipython3",
   "version": "3.7.10"
  }
 },
 "nbformat": 4,
 "nbformat_minor": 5
}
