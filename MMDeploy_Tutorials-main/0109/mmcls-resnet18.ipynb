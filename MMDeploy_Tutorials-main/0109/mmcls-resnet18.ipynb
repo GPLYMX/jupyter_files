{
 "cells": [
  {
   "cell_type": "code",
   "execution_count": 1,
   "id": "61c6ec0b-848a-4510-91e5-e5475f1f83da",
   "metadata": {},
   "outputs": [
    {
     "name": "stdout",
     "output_type": "stream",
     "text": [
      "Looking in indexes: https://pypi.tuna.tsinghua.edu.cn/simple\n",
      "Collecting openmim\n",
      "  Downloading https://pypi.tuna.tsinghua.edu.cn/packages/7c/ce/b0430673841650a06abd366e6797a2f86dd8889db94272e0620cb098d1f5/openmim-0.3.4-py2.py3-none-any.whl (50 kB)\n",
      "\u001b[K     |████████████████████████████████| 50 kB 28.8 MB/s eta 0:00:01\n",
      "\u001b[?25hRequirement already satisfied: colorama in /environment/miniconda3/lib/python3.7/site-packages (from openmim) (0.4.4)\n",
      "Collecting model-index\n",
      "  Downloading https://pypi.tuna.tsinghua.edu.cn/packages/0f/a6/4d4cbbef704f186d143e2859296a610a355992e4eae71582bd598093b36a/model_index-0.1.11-py3-none-any.whl (34 kB)\n",
      "Requirement already satisfied: pandas in /environment/miniconda3/lib/python3.7/site-packages (from openmim) (1.3.4)\n",
      "Collecting rich\n",
      "  Downloading https://pypi.tuna.tsinghua.edu.cn/packages/ea/bc/5ca0a05823fcdf00c64b44448122131319bc0bf53ec9ce715dc960560df2/rich-13.0.1-py3-none-any.whl (238 kB)\n",
      "\u001b[K     |████████████████████████████████| 238 kB 65.4 MB/s eta 0:00:01\n",
      "\u001b[?25hRequirement already satisfied: tabulate in /environment/miniconda3/lib/python3.7/site-packages (from openmim) (0.8.7)\n",
      "Requirement already satisfied: pip>=19.3 in /environment/miniconda3/lib/python3.7/site-packages (from openmim) (21.1.3)\n",
      "Requirement already satisfied: Click in /environment/miniconda3/lib/python3.7/site-packages (from openmim) (7.1.2)\n",
      "Requirement already satisfied: requests in /environment/miniconda3/lib/python3.7/site-packages (from openmim) (2.24.0)\n",
      "Collecting ordered-set\n",
      "  Downloading https://pypi.tuna.tsinghua.edu.cn/packages/33/55/af02708f230eb77084a299d7b08175cff006dea4f2721074b92cdb0296c0/ordered_set-4.1.0-py3-none-any.whl (7.6 kB)\n",
      "Requirement already satisfied: markdown in /environment/miniconda3/lib/python3.7/site-packages (from model-index->openmim) (3.3.6)\n",
      "Requirement already satisfied: pyyaml in /environment/miniconda3/lib/python3.7/site-packages (from model-index->openmim) (6.0)\n",
      "Requirement already satisfied: importlib-metadata>=4.4 in /environment/miniconda3/lib/python3.7/site-packages (from markdown->model-index->openmim) (4.8.2)\n",
      "Requirement already satisfied: typing-extensions>=3.6.4 in /environment/miniconda3/lib/python3.7/site-packages (from importlib-metadata>=4.4->markdown->model-index->openmim) (4.0.1)\n",
      "Requirement already satisfied: zipp>=0.5 in /environment/miniconda3/lib/python3.7/site-packages (from importlib-metadata>=4.4->markdown->model-index->openmim) (3.6.0)\n",
      "Requirement already satisfied: pytz>=2017.3 in /environment/miniconda3/lib/python3.7/site-packages (from pandas->openmim) (2021.3)\n",
      "Requirement already satisfied: python-dateutil>=2.7.3 in /environment/miniconda3/lib/python3.7/site-packages (from pandas->openmim) (2.8.2)\n",
      "Requirement already satisfied: numpy>=1.17.3 in /environment/miniconda3/lib/python3.7/site-packages (from pandas->openmim) (1.21.4)\n",
      "Requirement already satisfied: six>=1.5 in /environment/miniconda3/lib/python3.7/site-packages (from python-dateutil>=2.7.3->pandas->openmim) (1.16.0)\n",
      "Requirement already satisfied: chardet<4,>=3.0.2 in /environment/miniconda3/lib/python3.7/site-packages (from requests->openmim) (3.0.4)\n",
      "Requirement already satisfied: certifi>=2017.4.17 in /environment/miniconda3/lib/python3.7/site-packages (from requests->openmim) (2021.5.30)\n",
      "Requirement already satisfied: urllib3!=1.25.0,!=1.25.1,<1.26,>=1.21.1 in /environment/miniconda3/lib/python3.7/site-packages (from requests->openmim) (1.25.11)\n",
      "Requirement already satisfied: idna<3,>=2.5 in /environment/miniconda3/lib/python3.7/site-packages (from requests->openmim) (2.10)\n",
      "Collecting commonmark<0.10.0,>=0.9.0\n",
      "  Downloading https://pypi.tuna.tsinghua.edu.cn/packages/b1/92/dfd892312d822f36c55366118b95d914e5f16de11044a27cf10a7d71bbbf/commonmark-0.9.1-py2.py3-none-any.whl (51 kB)\n",
      "\u001b[K     |████████████████████████████████| 51 kB 48.1 MB/s eta 0:00:01\n",
      "\u001b[?25hRequirement already satisfied: pygments<3.0.0,>=2.6.0 in /environment/miniconda3/lib/python3.7/site-packages (from rich->openmim) (2.10.0)\n",
      "Installing collected packages: ordered-set, commonmark, rich, model-index, openmim\n",
      "Successfully installed commonmark-0.9.1 model-index-0.1.11 openmim-0.3.4 ordered-set-4.1.0 rich-13.0.1\n",
      "Looking in indexes: https://pypi.tuna.tsinghua.edu.cn/simple\n",
      "Looking in links: https://download.openmmlab.com/mmcv/dist/cu113/torch1.10.0/index.html\n",
      "Collecting mmcv-full\n",
      "  Downloading https://download.openmmlab.com/mmcv/dist/cu113/torch1.10.0/mmcv_full-1.7.1-cp37-cp37m-manylinux1_x86_64.whl (58.2 MB)\n",
      "\u001b[K     |████████████████████████████████| 58.2 MB 12.1 MB/s eta 0:00:01     |█████████████████████████       | 45.4 MB 33.0 MB/s eta 0:00:01\n",
      "\u001b[?25hRequirement already satisfied: yapf in /environment/miniconda3/lib/python3.7/site-packages (from mmcv-full) (0.31.0)\n",
      "Requirement already satisfied: packaging in /environment/miniconda3/lib/python3.7/site-packages (from mmcv-full) (21.3)\n",
      "Requirement already satisfied: opencv-python>=3 in /environment/miniconda3/lib/python3.7/site-packages (from mmcv-full) (4.5.4.60)\n",
      "Collecting addict\n",
      "  Downloading https://pypi.tuna.tsinghua.edu.cn/packages/6a/00/b08f23b7d7e1e14ce01419a467b583edbb93c6cdb8654e54a9cc579cd61f/addict-2.4.0-py3-none-any.whl (3.8 kB)\n",
      "Requirement already satisfied: numpy in /environment/miniconda3/lib/python3.7/site-packages (from mmcv-full) (1.21.4)\n",
      "Requirement already satisfied: pyyaml in /environment/miniconda3/lib/python3.7/site-packages (from mmcv-full) (6.0)\n",
      "Requirement already satisfied: Pillow in /environment/miniconda3/lib/python3.7/site-packages (from mmcv-full) (8.4.0)\n",
      "Requirement already satisfied: pyparsing!=3.0.5,>=2.0.2 in /environment/miniconda3/lib/python3.7/site-packages (from packaging->mmcv-full) (3.0.6)\n",
      "Installing collected packages: addict, mmcv-full\n",
      "Successfully installed addict-2.4.0 mmcv-full-1.7.1\n",
      "Looking in indexes: https://pypi.tuna.tsinghua.edu.cn/simple\n",
      "Looking in links: https://download.openmmlab.com/mmcv/dist/cu113/torch1.10.0/index.html\n",
      "Collecting mmcls==0.25.0\n",
      "  Downloading https://pypi.tuna.tsinghua.edu.cn/packages/1f/7d/19588f57c22f4053ca2db92c691fbea556899f407fe7bb03ed42b37f07ef/mmcls-0.25.0-py2.py3-none-any.whl (648 kB)\n",
      "\u001b[K     |████████████████████████████████| 648 kB 51.9 MB/s eta 0:00:01\n",
      "\u001b[?25hRequirement already satisfied: packaging in /environment/miniconda3/lib/python3.7/site-packages (from mmcls==0.25.0) (21.3)\n",
      "Requirement already satisfied: matplotlib>=3.1.0 in /environment/miniconda3/lib/python3.7/site-packages (from mmcls==0.25.0) (3.5.0)\n",
      "Requirement already satisfied: numpy in /environment/miniconda3/lib/python3.7/site-packages (from mmcls==0.25.0) (1.21.4)\n",
      "Requirement already satisfied: mmcv-full<1.9.0,>=1.4.2 in /environment/miniconda3/lib/python3.7/site-packages (from mmcls==0.25.0) (1.7.1)\n",
      "Requirement already satisfied: pillow>=6.2.0 in /environment/miniconda3/lib/python3.7/site-packages (from matplotlib>=3.1.0->mmcls==0.25.0) (8.4.0)\n",
      "Requirement already satisfied: fonttools>=4.22.0 in /environment/miniconda3/lib/python3.7/site-packages (from matplotlib>=3.1.0->mmcls==0.25.0) (4.28.3)\n",
      "Requirement already satisfied: pyparsing>=2.2.1 in /environment/miniconda3/lib/python3.7/site-packages (from matplotlib>=3.1.0->mmcls==0.25.0) (3.0.6)\n",
      "Requirement already satisfied: cycler>=0.10 in /environment/miniconda3/lib/python3.7/site-packages (from matplotlib>=3.1.0->mmcls==0.25.0) (0.11.0)\n",
      "Requirement already satisfied: kiwisolver>=1.0.1 in /environment/miniconda3/lib/python3.7/site-packages (from matplotlib>=3.1.0->mmcls==0.25.0) (1.3.2)\n",
      "Requirement already satisfied: setuptools-scm>=4 in /environment/miniconda3/lib/python3.7/site-packages (from matplotlib>=3.1.0->mmcls==0.25.0) (6.3.2)\n",
      "Requirement already satisfied: python-dateutil>=2.7 in /environment/miniconda3/lib/python3.7/site-packages (from matplotlib>=3.1.0->mmcls==0.25.0) (2.8.2)\n",
      "Requirement already satisfied: pyyaml in /environment/miniconda3/lib/python3.7/site-packages (from mmcv-full<1.9.0,>=1.4.2->mmcls==0.25.0) (6.0)\n",
      "Requirement already satisfied: addict in /environment/miniconda3/lib/python3.7/site-packages (from mmcv-full<1.9.0,>=1.4.2->mmcls==0.25.0) (2.4.0)\n",
      "Requirement already satisfied: yapf in /environment/miniconda3/lib/python3.7/site-packages (from mmcv-full<1.9.0,>=1.4.2->mmcls==0.25.0) (0.31.0)\n",
      "Requirement already satisfied: opencv-python>=3 in /environment/miniconda3/lib/python3.7/site-packages (from mmcv-full<1.9.0,>=1.4.2->mmcls==0.25.0) (4.5.4.60)\n",
      "Requirement already satisfied: six>=1.5 in /environment/miniconda3/lib/python3.7/site-packages (from python-dateutil>=2.7->matplotlib>=3.1.0->mmcls==0.25.0) (1.16.0)\n",
      "Requirement already satisfied: setuptools in /environment/miniconda3/lib/python3.7/site-packages (from setuptools-scm>=4->matplotlib>=3.1.0->mmcls==0.25.0) (52.0.0.post20210125)\n",
      "Requirement already satisfied: tomli>=1.0.0 in /environment/miniconda3/lib/python3.7/site-packages (from setuptools-scm>=4->matplotlib>=3.1.0->mmcls==0.25.0) (1.2.2)\n",
      "Installing collected packages: mmcls\n",
      "Successfully installed mmcls-0.25.0\n"
     ]
    }
   ],
   "source": [
    "!pip install -U openmim\n",
    "!mim install mmcv-full\n",
    "!mim install mmcls==0.25.0\n",
    "!mim download mmcls --config resnet18_8xb32_in1k --dest ."
   ]
  },
  {
   "cell_type": "code",
   "execution_count": null,
   "id": "58b602fb-71e5-4a26-8111-bbff9af7778f",
   "metadata": {},
   "outputs": [
    {
     "name": "stdout",
     "output_type": "stream",
     "text": [
      "load checkpoint from local path: resnet18_8xb32_in1k_20210831-fbbb1da6.pth\n"
     ]
    }
   ],
   "source": [
    "from mmcls.apis import init_model\n",
    "import torch\n",
    "\n",
    "\n",
    "resnet18 = init_model('resnet18_8xb32_in1k.py', \n",
    "                      checkpoint='resnet18_8xb32_in1k_20210831-fbbb1da6.pth',\n",
    "                      device='cuda:0')\n",
    "resnet18.eval()\n",
    "x = torch.rand((1, 3, 224, 224), device='cuda:0')\n",
    "torch.onnx.export(resnet18, (x, False), 'resnet18.onnx',\n",
    "                  input_names=['input'], output_names=['output'],\n",
    "                  opset_version=11)"
   ]
  },
  {
   "cell_type": "code",
   "execution_count": 2,
   "id": "de5f50d8-df5d-4eae-860c-d5c7119668bb",
   "metadata": {},
   "outputs": [
    {
     "name": "stderr",
     "output_type": "stream",
     "text": [
      "/environment/miniconda3/lib/python3.7/site-packages/mmcv/__init__.py:21: UserWarning: On January 1, 2023, MMCV will release v2.0.0, in which it will remove components related to the training process and add a data transformation module. In addition, it will rename the package names mmcv to mmcv-lite and mmcv-full to mmcv. See https://github.com/open-mmlab/mmcv/blob/master/docs/en/compatibility.md for more details.\n",
      "  'On January 1, 2023, MMCV will release v2.0.0, in which it will remove '\n"
     ]
    },
    {
     "name": "stdout",
     "output_type": "stream",
     "text": [
      "load checkpoint from local path: resnet18_8xb32_in1k_20210831-fbbb1da6.pth\n"
     ]
    },
    {
     "name": "stderr",
     "output_type": "stream",
     "text": [
      "/environment/miniconda3/lib/python3.7/site-packages/mmcls/models/classifiers/base.py:82: TracerWarning: Converting a tensor to a Python boolean might cause the trace to be incorrect. We can't record the data flow of Python values, so this value will be treated as a constant in the future. This means that the trace might not generalize to other inputs!\n",
      "  if return_loss:\n"
     ]
    }
   ],
   "source": [
    "from mmcls.apis import init_model\n",
    "import torch\n",
    "\n",
    "resnet18 = init_model('resnet18_8xb32_in1k.py', \n",
    "                      checkpoint='resnet18_8xb32_in1k_20210831-fbbb1da6.pth',\n",
    "                      device='cuda:0')\n",
    "resnet18.eval()\n",
    "\n",
    "x = torch.rand((1, 3, 224, 224), device='cuda:0')\n",
    "torch.onnx.export(resnet18, (x, False), 'resnet18_batch.onnx',\n",
    "                  input_names=['input'], output_names=['output'],\n",
    "                  opset_version=11,\n",
    "                  dynamic_axes=dict(\n",
    "                      input=dict({0:'batch'}),\n",
    "                      output=dict({0:'batch'}))\n",
    "                 )\n"
   ]
  },
  {
   "cell_type": "code",
   "execution_count": null,
   "id": "497a9a98-59bb-471c-9558-1880d1e05de1",
   "metadata": {},
   "outputs": [],
   "source": []
  }
 ],
 "metadata": {
  "kernelspec": {
   "display_name": "Python 3 (ipykernel)",
   "language": "python",
   "name": "python3"
  },
  "language_info": {
   "codemirror_mode": {
    "name": "ipython",
    "version": 3
   },
   "file_extension": ".py",
   "mimetype": "text/x-python",
   "name": "python",
   "nbconvert_exporter": "python",
   "pygments_lexer": "ipython3",
   "version": "3.7.10"
  }
 },
 "nbformat": 4,
 "nbformat_minor": 5
}
