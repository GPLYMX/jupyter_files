{
 "cells": [
  {
   "cell_type": "code",
   "execution_count": 1,
   "id": "0b698978-a195-496c-9967-e338d0699ffd",
   "metadata": {},
   "outputs": [
    {
     "name": "stdout",
     "output_type": "stream",
     "text": [
      "Looking in indexes: https://pypi.tuna.tsinghua.edu.cn/simple\n",
      "Collecting onnxruntime-gpu\n",
      "  Downloading https://pypi.tuna.tsinghua.edu.cn/packages/6c/eb/76be952378b96d73e9b70958278ecc3013175faeab7ca74ba43906171eb8/onnxruntime_gpu-1.13.1-cp37-cp37m-manylinux_2_17_x86_64.manylinux2014_x86_64.whl (115.3 MB)\n",
      "\u001b[K     |████████████████████████████████| 115.3 MB 81.9 MB/s eta 0:00:01    |███████▏                        | 25.8 MB 40.2 MB/s eta 0:00:03\n",
      "\u001b[?25hRequirement already satisfied: packaging in /environment/miniconda3/lib/python3.7/site-packages (from onnxruntime-gpu) (21.3)\n",
      "Collecting numpy>=1.21.6\n",
      "  Downloading https://pypi.tuna.tsinghua.edu.cn/packages/6d/ad/ff3b21ebfe79a4d25b4a4f8e5cf9fd44a204adb6b33c09010f566f51027a/numpy-1.21.6-cp37-cp37m-manylinux_2_12_x86_64.manylinux2010_x86_64.whl (15.7 MB)\n",
      "\u001b[K     |████████████████████████████████| 15.7 MB 69.3 MB/s eta 0:00:01\n",
      "\u001b[?25hRequirement already satisfied: protobuf in /environment/miniconda3/lib/python3.7/site-packages (from onnxruntime-gpu) (3.19.1)\n",
      "Collecting coloredlogs\n",
      "  Downloading https://pypi.tuna.tsinghua.edu.cn/packages/a7/06/3d6badcf13db419e25b07041d9c7b4a2c331d3f4e7134445ec5df57714cd/coloredlogs-15.0.1-py2.py3-none-any.whl (46 kB)\n",
      "\u001b[K     |████████████████████████████████| 46 kB 46.2 MB/s eta 0:00:01\n",
      "\u001b[?25hRequirement already satisfied: flatbuffers in /environment/miniconda3/lib/python3.7/site-packages (from onnxruntime-gpu) (2.0)\n",
      "Collecting sympy\n",
      "  Downloading https://pypi.tuna.tsinghua.edu.cn/packages/d0/04/66be21ceb305c66a4b326b0ae44cc4f027a43bc08cac204b48fb45bb3653/sympy-1.10.1-py3-none-any.whl (6.4 MB)\n",
      "\u001b[K     |████████████████████████████████| 6.4 MB 38.7 MB/s eta 0:00:01\n",
      "\u001b[?25hCollecting humanfriendly>=9.1\n",
      "  Downloading https://pypi.tuna.tsinghua.edu.cn/packages/f0/0f/310fb31e39e2d734ccaa2c0fb981ee41f7bd5056ce9bc29b2248bd569169/humanfriendly-10.0-py2.py3-none-any.whl (86 kB)\n",
      "\u001b[K     |████████████████████████████████| 86 kB 61.3 MB/s eta 0:00:01\n",
      "\u001b[?25hRequirement already satisfied: pyparsing!=3.0.5,>=2.0.2 in /environment/miniconda3/lib/python3.7/site-packages (from packaging->onnxruntime-gpu) (3.0.6)\n",
      "Collecting mpmath>=0.19\n",
      "  Downloading https://pypi.tuna.tsinghua.edu.cn/packages/d4/cf/3965bddbb4f1a61c49aacae0e78fd1fe36b5dc36c797b31f30cf07dcbbb7/mpmath-1.2.1-py3-none-any.whl (532 kB)\n",
      "\u001b[K     |████████████████████████████████| 532 kB 69.1 MB/s eta 0:00:01\n",
      "\u001b[?25hInstalling collected packages: mpmath, humanfriendly, sympy, numpy, coloredlogs, onnxruntime-gpu\n",
      "  Attempting uninstall: numpy\n",
      "    Found existing installation: numpy 1.21.4\n",
      "    Uninstalling numpy-1.21.4:\n",
      "      Successfully uninstalled numpy-1.21.4\n",
      "Successfully installed coloredlogs-15.0.1 humanfriendly-10.0 mpmath-1.2.1 numpy-1.21.6 onnxruntime-gpu-1.13.1 sympy-1.10.1\n"
     ]
    }
   ],
   "source": [
    "!pip install onnxruntime-gpu"
   ]
  },
  {
   "cell_type": "code",
   "execution_count": null,
   "id": "d841c7c1-b6fb-456e-8fd4-622542354eb2",
   "metadata": {},
   "outputs": [
    {
     "name": "stderr",
     "output_type": "stream",
     "text": [
      "/environment/miniconda3/lib/python3.7/site-packages/mmcv/__init__.py:21: UserWarning: On January 1, 2023, MMCV will release v2.0.0, in which it will remove components related to the training process and add a data transformation module. In addition, it will rename the package names mmcv to mmcv-lite and mmcv-full to mmcv. See https://github.com/open-mmlab/mmcv/blob/master/docs/en/compatibility.md for more details.\n",
      "  'On January 1, 2023, MMCV will release v2.0.0, in which it will remove '\n"
     ]
    }
   ],
   "source": [
    "import onnxruntime as ort\n",
    "import torch\n",
    "import mmcv\n",
    "from mmcv.parallel import collate, scatter\n",
    "from mmcls.datasets.pipelines import Compose\n",
    "import numpy as np\n",
    "\n",
    "session = ort.InferenceSession('resnet18.onnx',\n",
    "                               providers=['CUDAExecutionProvider'])\n",
    "\n",
    "cfg = mmcv.Config.fromfile('resnet18_8xb32_in1k.py')\n",
    "test_pipeline = Compose(cfg.data.test.pipeline)\n",
    "input_data = dict(img_info=dict(filename='daisy.webp'), img_prefix=None)\n",
    "input_data = test_pipeline(input_data)\n",
    "input_data = collate([input_data], samples_per_gpu=1)\n",
    "input_data = scatter(input_data, [torch.device('cuda:0')])[0]\n",
    "input_data = input_data['img']\n",
    "\n",
    "io_binding = session.io_binding()\n",
    "io_binding.bind_input(name='input',\n",
    "                      device_type='cuda',\n",
    "                      device_id=0,\n",
    "                      element_type=np.float32,\n",
    "                      shape=input_data.shape,\n",
    "                      buffer_ptr=input_data.data_ptr())\n",
    "io_binding.bind_output('output')\n",
    "\n",
    "session.run_with_iobinding(io_binding)\n",
    "scores = io_binding.copy_outputs_to_cpu()[0]\n",
    "\n",
    "pred_score = np.max(scores, axis=1)[0]\n",
    "pred_label = np.argmax(scores, axis=1)[0]\n",
    "print(pred_score, pred_label)"
   ]
  }
 ],
 "metadata": {
  "kernelspec": {
   "display_name": "Python 3 (ipykernel)",
   "language": "python",
   "name": "python3"
  },
  "language_info": {
   "codemirror_mode": {
    "name": "ipython",
    "version": 3
   },
   "file_extension": ".py",
   "mimetype": "text/x-python",
   "name": "python",
   "nbconvert_exporter": "python",
   "pygments_lexer": "ipython3",
   "version": "3.7.10"
  }
 },
 "nbformat": 4,
 "nbformat_minor": 5
}
