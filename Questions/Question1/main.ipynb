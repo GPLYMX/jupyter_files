{
 "cells": [
  {
   "cell_type": "code",
   "execution_count": 1,
   "id": "37dfd3a8",
   "metadata": {},
   "outputs": [],
   "source": [
    "import os\n",
    "import time\n",
    "\n",
    "import numpy as np\n",
    "import cv2\n",
    "from sklearn.cluster import KMeans\n",
    "import matplotlib.pyplot as plt\n",
    "import torch\n",
    "import torch.nn as nn\n",
    "import torch.optim as optim\n",
    "from torch.utils.data import DataLoader\n",
    "from torchvision.datasets import ImageFolder\n",
    "import torchvision.transforms as transforms\n",
    "import torchvision.models as models\n",
    "from PIL import Image\n",
    "from matplotlib.patches import Patch"
   ]
  },
  {
   "cell_type": "code",
   "execution_count": 2,
   "id": "a0e089e7",
   "metadata": {},
   "outputs": [],
   "source": [
    "def read_picture(file_root='cube_20221019_091444'):\n",
    "    # 图片文件夹路径\n",
    "    current_path = os.getcwd()\n",
    "    folder_path = os.path.join(current_path,'peanut_traning_data',file_root, 'png' )\n",
    "\n",
    "    # 读取图片\n",
    "    image_list = []\n",
    "    for filename in os.listdir(folder_path):\n",
    "        if filename.endswith('.png'):\n",
    "            image_path = os.path.join(folder_path, filename)\n",
    "            image = cv2.imread(image_path, cv2.IMREAD_GRAYSCALE)  # 以灰度模式读取图片\n",
    "            image_list.append(image)\n",
    "\n",
    "    # 将图片转换为NumPy数组\n",
    "    image_array = np.array(image_list)\n",
    "\n",
    "    return image_array, image"
   ]
  },
  {
   "cell_type": "code",
   "execution_count": 3,
   "id": "1306b6fe",
   "metadata": {},
   "outputs": [],
   "source": [
    "def KmCluster(image_array):\n",
    "    \"\"\"\n",
    "    聚类，将输入图片中的花生壳、花生区域的像素置为255，背景区域像素值置为0\n",
    "    \"\"\"\n",
    "    data = image_array\n",
    "    # 将数据重新形状为 (N, M)，其中 N 是样本数，M 是特征数\n",
    "    N, M = data.shape[0], data.shape[1] * data.shape[2]\n",
    "    reshaped_data = data.reshape(N, M)\n",
    "    reshaped_data = np.transpose(reshaped_data, (1, 0))\n",
    "\n",
    "    # 使用KMeans算法进行聚类，聚类成两类\n",
    "    kmeans = KMeans(n_clusters=2)\n",
    "    kmeans.fit(reshaped_data)\n",
    "\n",
    "    # 获取聚类结果标签\n",
    "    labels = kmeans.labels_\n",
    "    # 将聚类结果标签重新形状为3x1024x1280的数组\n",
    "    reshaped_labels = labels.reshape(1, 1024, 1280)\n",
    "    if np.count_nonzero(reshaped_labels == 1) > np.count_nonzero(reshaped_labels == 0):\n",
    "        reshaped_labels = np.where(reshaped_labels == 1, 0, 1)\n",
    "        \n",
    "\n",
    "    # 创建一个3x1024x1280的图片，将聚类结果标签赋值给对应位置的像素\n",
    "    image = np.zeros((3, 1024, 1280))\n",
    "    image[0][reshaped_labels[0] == 0] = 0  # 第一类赋值为255\n",
    "    image[1][reshaped_labels[0] == 1] = 255  # 第二类赋值为255\n",
    "\n",
    "    # 显示图片\n",
    "    image = np.transpose(image, (1, 2, 0)).astype(np.uint8)\n",
    "    plt.imshow(image)\n",
    "    plt.show()\n",
    "    return image, reshaped_labels"
   ]
  },
  {
   "cell_type": "code",
   "execution_count": 4,
   "id": "4ea824c6",
   "metadata": {},
   "outputs": [],
   "source": [
    "# 定义数据预处理的转换\n",
    "transform = transforms.Compose([\n",
    "    transforms.Resize((64, 64)),  # 调整图像大小为64x64像素\n",
    "    transforms.ToTensor(),  # 转换为张量\n",
    "    transforms.Normalize((0.5,), (0.5,))  # 归一化处理\n",
    "])\n",
    "\n",
    "\n",
    "class Net(nn.Module):\n",
    "    def __init__(self):\n",
    "        super(Net, self).__init__()\n",
    "        self.res = models.resnet18(pretrained=False)\n",
    "        self.fc1 = nn.Linear(1000, 2)\n",
    "\n",
    "    def forward(self, x):\n",
    "        x = self.res(x)\n",
    "        x = self.fc1(x)\n",
    "        return x\n",
    "\n",
    "\n",
    "model = Net()"
   ]
  },
  {
   "cell_type": "code",
   "execution_count": 9,
   "id": "d67235f8",
   "metadata": {},
   "outputs": [],
   "source": [
    "def model_predict(image):\n",
    "    \"\"\"\n",
    "    判断花生仁和花生壳：0代表花生仁、1代表花生壳\n",
    "    :param image: numpy格式的图片数组\n",
    "    :return: 类别（格式为整数）\n",
    "    \"\"\"\n",
    "    # 预测该区域是花生仁还是花生壳\n",
    "    global model\n",
    "    model.eval()\n",
    "    object_image = Image.fromarray(image)\n",
    "    image = transform(object_image)\n",
    "    image = image.unsqueeze(0)\n",
    "    image = image.repeat(1, 3, 1, 1)\n",
    "    outputs = model(image)\n",
    "    _, predicted = torch.max(outputs.data, 1)\n",
    "    \n",
    "    return predicted.item()\n"
   ]
  },
  {
   "cell_type": "code",
   "execution_count": 10,
   "id": "46321808",
   "metadata": {},
   "outputs": [],
   "source": [
    "def generate_img(image, img, reshaped_labels):\n",
    "\n",
    "    # 读取灰度图像\n",
    "    image = cv2.cvtColor(image, cv2.COLOR_BGR2RGB)\n",
    "    image = cv2.cvtColor(image, cv2.COLOR_BGR2GRAY)\n",
    "    edges = cv2.Canny(image, 20, 100)\n",
    "\n",
    "    # 进行连通区域分析，提取物体轮廓\n",
    "    contours, _ = cv2.findContours(edges, cv2.RETR_EXTERNAL, cv2.CHAIN_APPROX_SIMPLE)\n",
    "    \n",
    "    show_image = np.zeros((3, 1024, 1280))\n",
    "    temp_image = np.zeros((1, 1024, 1280))\n",
    "    # 遍历每个轮廓，生成小图片\n",
    "    for i, contour in enumerate(contours):\n",
    "        # 获取每个轮廓的边界框\n",
    "        x, y, w, h = cv2.boundingRect(contour)\n",
    "\n",
    "        # 提取小图片\n",
    "        if w>=3 and h>=3:\n",
    "            object_image = img[y:y+h, x:x+w]\n",
    "            object_image = cv2.resize(object_image, (64, 64))\n",
    "            \n",
    "            # 预测该区域是花生仁还是花生壳\n",
    "            label = model_predict(object_image)\n",
    "            # print(label)\n",
    "            temp_image[:,y:y+h, x:x+w] = int(label) + 1\n",
    "            # print(np.count_nonzero(temp_image[0] == 2))\n",
    "            \n",
    "            \n",
    "    # 第一类赋值为255\n",
    "    show_image[0][reshaped_labels[0] == 0] = 0  \n",
    "    # 第二类赋值为255\n",
    "    show_image[1][np.logical_and(reshaped_labels[0] == 1, temp_image[0] == 1)] = 255\n",
    "    # 第三类赋值为255\n",
    "    show_image[2][np.logical_and(reshaped_labels[0] == 1, temp_image[0] == 2)] = 255\n",
    "    \n",
    "    show_image = np.transpose(show_image, (1, 2, 0)).astype(np.uint8)\n",
    "    return show_image\n",
    "\n"
   ]
  },
  {
   "cell_type": "code",
   "execution_count": 11,
   "id": "23ed0467",
   "metadata": {},
   "outputs": [],
   "source": [
    "def main(file_name=os.path.join('peanut_test_data','cube_20221019_091559')):\n",
    "    # 获取测试集路径\n",
    "    \n",
    "    current_path = os.getcwd()\n",
    "    root = os.path.join(current_path, file_name)\n",
    "    \n",
    "    image, img = read_picture(file_root=root)\n",
    "    image, reshaped_labels = KmCluster(image)\n",
    "    show_image = generate_img(image, img, reshaped_labels)\n",
    "    fig, ax = plt.subplots()\n",
    "    legend_elements = [\n",
    "        Patch(facecolor='green', edgecolor='blue', label='kernel'),\n",
    "        Patch(facecolor='blue', edgecolor='green', label='shell')\n",
    "    ]\n",
    "    ax.legend(handles=legend_elements, loc='upper right')\n",
    "    plt.imshow(show_image)\n",
    "    plt.show()\n",
    "    "
   ]
  },
  {
   "cell_type": "code",
   "execution_count": 13,
   "id": "90eb6a33",
   "metadata": {},
   "outputs": [
    {
     "data": {
      "image/png": "[encoded data removed]",
      "text/plain": [
       "<Figure size 432x288 with 1 Axes>"
      ]
     },
     "metadata": {
      "needs_background": "light"
     },
     "output_type": "display_data"
    },
    {
     "data": {
      "image/png": "[encoded data removed]",
      "text/plain": [
       "<Figure size 432x288 with 1 Axes>"
      ]
     },
     "metadata": {
      "needs_background": "light"
     },
     "output_type": "display_data"
    }
   ],
   "source": [
    "if __name__ == '__main__':\n",
    "    model = Net()\n",
    "    model.load_state_dict(torch.load('best.mdl'))\n",
    "    main(file_name=os.path.join('peanut_test_data','cube_20221019_091559'))"
   ]
  },
  {
   "cell_type": "code",
   "execution_count": null,
   "id": "03b8e670",
   "metadata": {},
   "outputs": [],
   "source": []
  }
 ],
 "metadata": {
  "kernelspec": {
   "display_name": "Python 3 (ipykernel)",
   "language": "python",
   "name": "python3"
  },
  "language_info": {
   "codemirror_mode": {
    "name": "ipython",
    "version": 3
   },
   "file_extension": ".py",
   "mimetype": "text/x-python",
   "name": "python",
   "nbconvert_exporter": "python",
   "pygments_lexer": "ipython3",
   "version": "3.11.4"
  }
 },
 "nbformat": 4,
 "nbformat_minor": 5
}
