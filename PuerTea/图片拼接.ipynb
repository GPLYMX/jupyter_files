{
 "cells": [
  {
   "cell_type": "code",
   "execution_count": 1,
   "id": "eedf185a",
   "metadata": {},
   "outputs": [],
   "source": [
    "import math\n",
    "def get_size(size, base=16):\n",
    "    \"\"\"\n",
    "    使得图片的尺寸为base的整数倍\n",
    "    size为原始尺寸，格式是列表譬如[120, 300]\n",
    "    输出格式为列表\n",
    "    \"\"\"\n",
    "    base = float(base)\n",
    "    rate1 = math.ceil(size[0] / base)\n",
    "    rate2 = math.ceil(size[1] / base)\n",
    "    return (int(rate1 * base), int(rate2 * base))"
   ]
  },
  {
   "cell_type": "code",
   "execution_count": 2,
   "id": "2d611817",
   "metadata": {},
   "outputs": [
    {
     "data": {
      "text/plain": [
       "(32, 32)"
      ]
     },
     "execution_count": 2,
     "metadata": {},
     "output_type": "execute_result"
    }
   ],
   "source": [
    "get_size([17, 31])"
   ]
  },
  {
   "cell_type": "code",
   "execution_count": 97,
   "id": "405261e4",
   "metadata": {},
   "outputs": [],
   "source": [
    "from matplotlib import pyplot as plt\n",
    "import numpy as np"
   ]
  },
  {
   "cell_type": "code",
   "execution_count": 98,
   "id": "c66b9b65",
   "metadata": {},
   "outputs": [],
   "source": [
    "root = r'D:\\MyCodes\\RITH\\puer\\data_20230901\\data\\train\\3-2\\3-2label.png'"
   ]
  },
  {
   "cell_type": "code",
   "execution_count": 99,
   "id": "baacc2a8",
   "metadata": {},
   "outputs": [],
   "source": [
    "img = plt.imread(root)"
   ]
  },
  {
   "cell_type": "code",
   "execution_count": 102,
   "id": "54d41ab9",
   "metadata": {},
   "outputs": [
    {
     "data": {
      "text/plain": [
       "(820, 1024)"
      ]
     },
     "execution_count": 102,
     "metadata": {},
     "output_type": "execute_result"
    }
   ],
   "source": [
    "img.shape"
   ]
  },
  {
   "cell_type": "code",
   "execution_count": 103,
   "id": "60349b1d",
   "metadata": {},
   "outputs": [],
   "source": [
    "a = np.array(img)"
   ]
  },
  {
   "cell_type": "code",
   "execution_count": 104,
   "id": "71d47a33",
   "metadata": {},
   "outputs": [
    {
     "data": {
      "text/plain": [
       "(820, 1024)"
      ]
     },
     "execution_count": 104,
     "metadata": {},
     "output_type": "execute_result"
    }
   ],
   "source": [
    "a.shape"
   ]
  },
  {
   "cell_type": "code",
   "execution_count": 41,
   "id": "e417a967",
   "metadata": {},
   "outputs": [
    {
     "data": {
      "text/plain": [
       "0.0"
      ]
     },
     "execution_count": 41,
     "metadata": {},
     "output_type": "execute_result"
    }
   ],
   "source": [
    "a.min()"
   ]
  },
  {
   "cell_type": "code",
   "execution_count": 93,
   "id": "ae2d9a14",
   "metadata": {},
   "outputs": [
    {
     "name": "stdout",
     "output_type": "stream",
     "text": [
      "0\n"
     ]
    }
   ],
   "source": [
    "import random\n",
    "\n",
    "num = 3  # 指定范围为0到9\n",
    "\n",
    "random_integer = random.randint(0, num )\n",
    "print(random_integer)\n"
   ]
  },
  {
   "cell_type": "code",
   "execution_count": 94,
   "id": "f16f4f98",
   "metadata": {},
   "outputs": [],
   "source": [
    "import torch\n"
   ]
  },
  {
   "cell_type": "code",
   "execution_count": 107,
   "id": "4c22ade1",
   "metadata": {},
   "outputs": [],
   "source": [
    "a = torch.tensor(a)"
   ]
  },
  {
   "cell_type": "code",
   "execution_count": 108,
   "id": "756ed260",
   "metadata": {},
   "outputs": [
    {
     "data": {
      "text/plain": [
       "torch.Size([820, 1024])"
      ]
     },
     "execution_count": 108,
     "metadata": {},
     "output_type": "execute_result"
    }
   ],
   "source": [
    "a.shape"
   ]
  },
  {
   "cell_type": "code",
   "execution_count": 111,
   "id": "4327ea42",
   "metadata": {},
   "outputs": [
    {
     "data": {
      "text/plain": [
       "820"
      ]
     },
     "execution_count": 111,
     "metadata": {},
     "output_type": "execute_result"
    }
   ],
   "source": [
    "a.size(0)"
   ]
  },
  {
   "cell_type": "code",
   "execution_count": 113,
   "id": "cf8733a0",
   "metadata": {},
   "outputs": [
    {
     "name": "stdout",
     "output_type": "stream",
     "text": [
      "拼接完成，保存为 combined_image.jpg\n"
     ]
    }
   ],
   "source": [
    "from PIL import Image\n",
    "\n",
    "# 想要拼接的图片文件名列表\n",
    "image_files = [r\"E:\\文件\\医保\\出生发票、清单\\出院明细汇总1.jpg\", r\"E:\\文件\\医保\\出生发票、清单\\出院明细汇总2.jpg\", r\"E:\\文件\\医保\\出生发票、清单\\出院明细汇总3.jpg\", r\"E:\\文件\\医保\\出生发票、清单\\出院明细汇总4.jpg\", r\"E:\\文件\\医保\\出生发票、清单\\出院明细汇总5.jpg\"]\n",
    "\n",
    "# 打开所有图片\n",
    "images = [Image.open(file) for file in image_files]\n",
    "\n",
    "# 获取图片的宽度和高度\n",
    "widths, heights = zip(*(i.size for i in images))\n",
    "\n",
    "# 计算拼接后的长图的总宽度和高度\n",
    "total_width = max(widths)\n",
    "total_height = sum(heights)\n",
    "\n",
    "# 创建一个新的空白图像，大小为拼接后的长图大小\n",
    "result_image = Image.new(\"RGB\", (total_width, total_height))\n",
    "\n",
    "# 逐一粘贴每张图片到长图中\n",
    "y_offset = 0\n",
    "for image in images:\n",
    "    result_image.paste(image, (0, y_offset))\n",
    "    y_offset += image.height\n",
    "\n",
    "# 保存拼接后的长图\n",
    "result_image.save(\"E:\\文件\\医保\\出生发票、清单\\combined_image.jpg\")\n",
    "\n",
    "# 关闭所有图片\n",
    "for image in images:\n",
    "    image.close()\n",
    "\n",
    "print(\"拼接完成，保存为 combined_image.jpg\")\n"
   ]
  },
  {
   "cell_type": "code",
   "execution_count": 1,
   "id": "7799e253",
   "metadata": {},
   "outputs": [],
   "source": [
    "import numpy as np\n",
    "a = np.array([[1, 2, 2, 1,1,1,2,3,3,2],\n",
    "              [3, 4, 7, 1,1,1,2,3,3,2],\n",
    "             [3, 2, 7, 1,1,1,2,3,3,2]])\n"
   ]
  },
  {
   "cell_type": "code",
   "execution_count": 25,
   "id": "0a6a0d2f",
   "metadata": {},
   "outputs": [],
   "source": [
    "b = np.where(a[:,1]==2)"
   ]
  },
  {
   "cell_type": "code",
   "execution_count": 26,
   "id": "30e81056",
   "metadata": {},
   "outputs": [
    {
     "data": {
      "text/plain": [
       "(array([0, 2], dtype=int64),)"
      ]
     },
     "execution_count": 26,
     "metadata": {},
     "output_type": "execute_result"
    }
   ],
   "source": [
    "b"
   ]
  },
  {
   "cell_type": "code",
   "execution_count": 27,
   "id": "a14c9e92",
   "metadata": {},
   "outputs": [
    {
     "data": {
      "text/plain": [
       "1.0"
      ]
     },
     "execution_count": 27,
     "metadata": {},
     "output_type": "execute_result"
    }
   ],
   "source": [
    "np.median(b)"
   ]
  },
  {
   "cell_type": "code",
   "execution_count": 28,
   "id": "e1bf6a61",
   "metadata": {},
   "outputs": [
    {
     "data": {
      "text/plain": [
       "2"
      ]
     },
     "execution_count": 28,
     "metadata": {},
     "output_type": "execute_result"
    }
   ],
   "source": [
    "b[0][int(len(b[0])/2)]"
   ]
  },
  {
   "cell_type": "code",
   "execution_count": 2,
   "id": "ff287939",
   "metadata": {},
   "outputs": [],
   "source": [
    "a = 0"
   ]
  },
  {
   "cell_type": "code",
   "execution_count": 3,
   "id": "89a71fb1",
   "metadata": {},
   "outputs": [
    {
     "data": {
      "text/plain": [
       "0"
      ]
     },
     "execution_count": 3,
     "metadata": {},
     "output_type": "execute_result"
    }
   ],
   "source": [
    "a"
   ]
  },
  {
   "cell_type": "code",
   "execution_count": null,
   "id": "c67f746f",
   "metadata": {},
   "outputs": [],
   "source": []
  }
 ],
 "metadata": {
  "kernelspec": {
   "display_name": "Python 3 (ipykernel)",
   "language": "python",
   "name": "python3"
  },
  "language_info": {
   "codemirror_mode": {
    "name": "ipython",
    "version": 3
   },
   "file_extension": ".py",
   "mimetype": "text/x-python",
   "name": "python",
   "nbconvert_exporter": "python",
   "pygments_lexer": "ipython3",
   "version": "3.11.4"
  }
 },
 "nbformat": 4,
 "nbformat_minor": 5
}
