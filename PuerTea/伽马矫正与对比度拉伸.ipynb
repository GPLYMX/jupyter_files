{
 "cells": [
  {
   "cell_type": "code",
   "execution_count": 1,
   "id": "9aede656",
   "metadata": {},
   "outputs": [],
   "source": [
    "import os\n",
    "import numpy as np\n",
    "import cv2"
   ]
  },
  {
   "cell_type": "code",
   "execution_count": 2,
   "id": "329153d4",
   "metadata": {},
   "outputs": [],
   "source": [
    "def gamma_correction(image, gamma=2.2):\n",
    "    # 将图像转换为浮点型\n",
    "    image = image.astype('float32') / 255.0\n",
    "\n",
    "    # 进行伽马矫正\n",
    "    corrected_image = np.power(image, gamma)\n",
    "\n",
    "    # 将矫正后的图像转换回8位整数型\n",
    "    corrected_image = (corrected_image * 255).astype('uint8')\n",
    "\n",
    "    return corrected_image"
   ]
  },
  {
   "cell_type": "code",
   "execution_count": 4,
   "id": "fb07ac40",
   "metadata": {},
   "outputs": [],
   "source": [
    "root = r'D:\\mycodes\\RITH\\puer\\data20240112_13\\yolo_type_amend\\images\\train'\n",
    "for img in os.listdir(root):\n",
    "    \n",
    "    # 读取图像\n",
    "    image_path = os.path.join(root, img)\n",
    "    original_image = cv2.imread(image_path)\n",
    "\n",
    "    # 设置伽马值，例如伽马值为2.0\n",
    "    gamma_value = 0.4\n",
    "\n",
    "    # 进行伽马矫正\n",
    "    corrected_image = gamma_correction(original_image, gamma=gamma_value)\n",
    "\n",
    "    # 显示原始图像和矫正后的图像\n",
    "#     cv2.imshow('Original Image', original_image)\n",
    "#     cv2.imshow('Gamma Corrected Image', corrected_image)\n",
    "#     cv2.waitKey(0)\n",
    "#     cv2.destroyAllWindows()\n",
    "    cv2.imwrite(image_path, corrected_image)\n"
   ]
  },
  {
   "cell_type": "code",
   "execution_count": 32,
   "id": "db44d329",
   "metadata": {},
   "outputs": [],
   "source": [
    "def contrast_stretching(image):\n",
    "    # 将图像转换为灰度图\n",
    "    # gray_image = cv2.cvtColor(image, cv2.COLOR_BGR2GRAY)\n",
    "\n",
    "    # 计算图像的最小和最大像素值\n",
    "    min_pixel_value = np.min(image)\n",
    "    max_pixel_value = np.max(image)\n",
    "\n",
    "    # 对比度拉伸公式：output = (input - min) * (255 / (max - min))\n",
    "    stretched_image = ((image - min_pixel_value) * (255.0 / (max_pixel_value - min_pixel_value))).astype(np.uint8)\n",
    "\n",
    "    # 如果需要，可以将拉伸后的图像转换为彩色图像\n",
    "    # stretched_image_colored = cv2.cvtColor(stretched_image, cv2.COLOR_GRAY2BGR)\n",
    "\n",
    "    return stretched_image"
   ]
  },
  {
   "cell_type": "code",
   "execution_count": 34,
   "id": "286b141b",
   "metadata": {},
   "outputs": [
    {
     "name": "stdout",
     "output_type": "stream",
     "text": [
      "(1884, 2023, 3)\n",
      "(1884, 2023, 3)\n",
      "(1884, 2023, 3)\n",
      "(1884, 2023, 3)\n",
      "(1884, 2023, 3)\n"
     ]
    }
   ],
   "source": [
    "root = r'D:\\mycodes\\RITH\\puer\\data20231216_1222\\yolo_cg_sz-gamma2b\\images\\val'\n",
    "for img in os.listdir(root):\n",
    "    \n",
    "    # 读取图像\n",
    "    image_path = os.path.join(root, img)\n",
    "    original_image = cv2.imread(image_path)\n",
    "\n",
    "    # 进行对比度拉伸\n",
    "    original_image[:,:,0] = contrast_stretching(original_image[:,:,0])\n",
    "    original_image[:,:,1] = contrast_stretching(original_image[:,:,1])\n",
    "    original_image[:,:,2] = contrast_stretching(original_image[:,:,2])\n",
    "    cv2.imwrite(image_path, original_image)"
   ]
  },
  {
   "cell_type": "code",
   "execution_count": 2,
   "id": "26157dea",
   "metadata": {},
   "outputs": [],
   "source": [
    "import cv2\n",
    "import numpy as np\n",
    "\n",
    "def contrast_stretching(image, thresholds1= [10, 70, 150, 240], thresholds2= [10, 150, 200, 240]):\n",
    "    # 将图像转换为灰度图\n",
    "    gray_image = image\n",
    "\n",
    "    # 分段线性变换\n",
    "    stretched_image = np.piecewise(gray_image,\n",
    "                                   [gray_image < thresholds1[0], \n",
    "                                    (gray_image >= thresholds1[0]) & (gray_image < thresholds1[1]),\n",
    "                                    (gray_image >= thresholds1[1]) & (gray_image < thresholds1[2]),\n",
    "                                    gray_image >= thresholds1[2]],\n",
    "                                   [lambda x: 0, \n",
    "                                    lambda x: 255 * ((x - thresholds2[0]) / (thresholds2[1] - thresholds2[0])),\n",
    "                                    lambda x: 255 * ((x - thresholds2[1]) / (thresholds2[2] - thresholds2[1])),\n",
    "                                    lambda x: 255])\n",
    "\n",
    "    # 如果需要，可以将拉伸后的图像转换为彩色图像\n",
    "    # stretched_image_colored = cv2.cvtColor(stretched_image.astype(np.uint8), cv2.COLOR_GRAY2BGR)\n",
    "\n",
    "    return stretched_image\n",
    "\n",
    "# 读取图像\n",
    "image_path = r'D:\\mycodes\\RITH\\puer\\data20231216_1222\\yolo_cg_sz-gamma2\\images\\train\\cube_20231216_150751.png'\n",
    "original_image = cv2.imread(image_path)\n",
    "cv2.imshow('Original Image', original_image)\n",
    "\n",
    "# 进行对比度拉伸\n",
    "# result_image = contrast_stretching(original_image)\n",
    "original_image[:,:,0] = contrast_stretching(original_image[:,:,0])\n",
    "original_image[:,:,1] = contrast_stretching(original_image[:,:,1])\n",
    "original_image[:,:,2] = contrast_stretching(original_image[:,:,2])\n",
    "\n",
    "# 显示原始图像和拉伸后的图像\n",
    "cv2.imshow('Contrast Stretched Image', original_image)\n",
    "cv2.waitKey(0)\n",
    "cv2.destroyAllWindows()\n"
   ]
  },
  {
   "cell_type": "code",
   "execution_count": 1,
   "id": "e83ec3fd",
   "metadata": {},
   "outputs": [],
   "source": [
    "import numpy as np"
   ]
  },
  {
   "cell_type": "code",
   "execution_count": 3,
   "id": "611cc918",
   "metadata": {},
   "outputs": [],
   "source": [
    "a = np.random.randn(2, 3, 4)"
   ]
  },
  {
   "cell_type": "code",
   "execution_count": 4,
   "id": "c3eb7615",
   "metadata": {},
   "outputs": [
    {
     "data": {
      "text/plain": [
       "array([[[ 1.14286122,  0.15809967, -2.05156763,  0.8764351 ],\n",
       "        [ 0.63382522, -0.64107018, -0.08448748, -0.95399341],\n",
       "        [-0.96928201, -0.51853342, -0.71469888, -1.19098776]],\n",
       "\n",
       "       [[ 1.01021096,  0.74369593, -1.01376275, -0.14868642],\n",
       "        [-0.9211372 ,  0.25811637,  2.44785035,  0.80457968],\n",
       "        [ 0.999174  , -0.33331326,  1.46830395,  0.85764931]]])"
      ]
     },
     "execution_count": 4,
     "metadata": {},
     "output_type": "execute_result"
    }
   ],
   "source": [
    "a"
   ]
  },
  {
   "cell_type": "code",
   "execution_count": 5,
   "id": "630c9f06",
   "metadata": {},
   "outputs": [
    {
     "data": {
      "text/plain": [
       "(2, 3, 4)"
      ]
     },
     "execution_count": 5,
     "metadata": {},
     "output_type": "execute_result"
    }
   ],
   "source": [
    "a.shape"
   ]
  },
  {
   "cell_type": "code",
   "execution_count": 22,
   "id": "13d7cf56",
   "metadata": {},
   "outputs": [],
   "source": [
    "a = [100, 2,3,4,5]"
   ]
  },
  {
   "cell_type": "code",
   "execution_count": 23,
   "id": "4916d0d9",
   "metadata": {},
   "outputs": [
    {
     "data": {
      "text/plain": [
       "2"
      ]
     },
     "execution_count": 23,
     "metadata": {},
     "output_type": "execute_result"
    }
   ],
   "source": [
    "a[2:].index(max(a[2:]))"
   ]
  },
  {
   "cell_type": "code",
   "execution_count": 9,
   "id": "1bc3dfda",
   "metadata": {},
   "outputs": [
    {
     "data": {
      "text/plain": [
       "4"
      ]
     },
     "execution_count": 9,
     "metadata": {},
     "output_type": "execute_result"
    }
   ],
   "source": [
    "a.index(max(a))"
   ]
  },
  {
   "cell_type": "code",
   "execution_count": 2,
   "id": "eec20a41",
   "metadata": {},
   "outputs": [],
   "source": [
    "import numpy as np\n",
    "import cv2"
   ]
  },
  {
   "cell_type": "code",
   "execution_count": 3,
   "id": "092808ca",
   "metadata": {},
   "outputs": [],
   "source": [
    "a = np.ones([200, 200])\n",
    "a = a * 200\n",
    "b = np.zeros([200, 200])\n",
    "c = b\n",
    "d = [a, b, c]\n",
    "d = np.array(d)\n",
    "d = np.transpose(d, (1, 2, 0))"
   ]
  },
  {
   "cell_type": "code",
   "execution_count": 34,
   "id": "8d9a89d9",
   "metadata": {},
   "outputs": [
    {
     "data": {
      "text/plain": [
       "True"
      ]
     },
     "execution_count": 34,
     "metadata": {},
     "output_type": "execute_result"
    }
   ],
   "source": [
    "cv2.imwrite('a.png', d)"
   ]
  },
  {
   "cell_type": "code",
   "execution_count": 4,
   "id": "3d20bce2",
   "metadata": {},
   "outputs": [],
   "source": [
    "cv2.imshow('d', d)"
   ]
  },
  {
   "cell_type": "code",
   "execution_count": 4,
   "id": "5fa4a944",
   "metadata": {},
   "outputs": [],
   "source": [
    "img = cv2.imread('a.png')"
   ]
  },
  {
   "cell_type": "code",
   "execution_count": 5,
   "id": "0198b523",
   "metadata": {},
   "outputs": [
    {
     "data": {
      "text/plain": [
       "(200, 200, 3)"
      ]
     },
     "execution_count": 5,
     "metadata": {},
     "output_type": "execute_result"
    }
   ],
   "source": [
    "img.shape"
   ]
  },
  {
   "cell_type": "code",
   "execution_count": 6,
   "id": "84c87c28",
   "metadata": {},
   "outputs": [
    {
     "data": {
      "text/plain": [
       "200"
      ]
     },
     "execution_count": 6,
     "metadata": {},
     "output_type": "execute_result"
    }
   ],
   "source": [
    "img[1, 1, 0]"
   ]
  },
  {
   "cell_type": "code",
   "execution_count": 7,
   "id": "82420cb9",
   "metadata": {},
   "outputs": [
    {
     "data": {
      "text/plain": [
       "0"
      ]
     },
     "execution_count": 7,
     "metadata": {},
     "output_type": "execute_result"
    }
   ],
   "source": [
    "img[1, 1, 2]"
   ]
  },
  {
   "cell_type": "code",
   "execution_count": 8,
   "id": "5ca19340",
   "metadata": {},
   "outputs": [],
   "source": [
    "import time"
   ]
  },
  {
   "cell_type": "code",
   "execution_count": null,
   "id": "59846672",
   "metadata": {},
   "outputs": [],
   "source": []
  }
 ],
 "metadata": {
  "kernelspec": {
   "display_name": "Python 3 (ipykernel)",
   "language": "python",
   "name": "python3"
  },
  "language_info": {
   "codemirror_mode": {
    "name": "ipython",
    "version": 3
   },
   "file_extension": ".py",
   "mimetype": "text/x-python",
   "name": "python",
   "nbconvert_exporter": "python",
   "pygments_lexer": "ipython3",
   "version": "3.11.4"
  }
 },
 "nbformat": 4,
 "nbformat_minor": 5
}
