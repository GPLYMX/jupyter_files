{
 "cells": [
  {
   "cell_type": "code",
   "execution_count": 4,
   "id": "f44a5c18",
   "metadata": {},
   "outputs": [],
   "source": [
    "import os \n",
    "import sys\n",
    "import random\n",
    "\n",
    "import cv2\n",
    "from PIL import Image\n",
    "import numpy as np"
   ]
  },
  {
   "cell_type": "code",
   "execution_count": 5,
   "id": "2877f919",
   "metadata": {},
   "outputs": [],
   "source": [
    "def main(folder_path = r'D:\\mycodes\\RITH\\puer\\data_20231020\\train\\2-1_20231020_103448\\pre_process'):\n",
    "    channels = [3, 4, 5, 6, 7, 8, 9, 10, 11, 12]\n",
    "    image_files = [filename for filename in os.listdir(folder_path) if filename.endswith(\".png\")]\n",
    "    image_files = [image_files[i] for i in channels]\n",
    "    imgs = []\n",
    "    for idx, img_path in enumerate(image_files):\n",
    "        img = Image.open(os.path.join(folder_path, img_path)).convert(\"L\")\n",
    "        img = np.array(img)\n",
    "        print(f'第{idx+1}通道的最大值：', img.max())\n",
    "        print(f'第{idx+1}通道的最小值：', img.min())\n",
    "        imgs.append(img.sum()/100000)\n",
    "        \n",
    "    print(imgs)\n",
    "    for i in range(len(channels)-1):\n",
    "        print(f'第{i+2}通道与第{i+1}通道百分比差：',100*(imgs[i+1]-imgs[i])/imgs[i], '%')\n",
    "    for i in range(len(channels)):\n",
    "        print(f'第{i+1}通道与第1通道百分比差：',100*(imgs[i]-min(imgs))/min(imgs), '%')"
   ]
  },
  {
   "cell_type": "code",
   "execution_count": 6,
   "id": "6f60674d",
   "metadata": {},
   "outputs": [
    {
     "name": "stdout",
     "output_type": "stream",
     "text": [
      "第1通道的最大值： 225\n",
      "第1通道的最小值： 13\n",
      "第2通道的最大值： 221\n",
      "第2通道的最小值： 16\n",
      "第3通道的最大值： 214\n",
      "第3通道的最小值： 20\n",
      "第4通道的最大值： 225\n",
      "第4通道的最小值： 29\n",
      "第5通道的最大值： 229\n",
      "第5通道的最小值： 34\n",
      "第6通道的最大值： 226\n",
      "第6通道的最小值： 50\n",
      "第7通道的最大值： 226\n",
      "第7通道的最小值： 53\n",
      "第8通道的最大值： 224\n",
      "第8通道的最小值： 56\n",
      "第9通道的最大值： 232\n",
      "第9通道的最小值： 63\n",
      "第10通道的最大值： 239\n",
      "第10通道的最小值： 70\n",
      "[2255.8727, 2357.81817, 2357.43584, 2495.58857, 2578.25946, 2690.20714, 2737.9316, 2743.42587, 2814.78941, 2912.56227]\n",
      "第2通道与第1通道百分比差： 4.51911448726695 %\n",
      "第3通道与第2通道百分比差： -0.016215414948639182 %\n",
      "第4通道与第3通道百分比差： 5.8602964990979265 %\n",
      "第5通道与第4通道百分比差： 3.3126810642509206 %\n",
      "第6通道与第5通道百分比差： 4.341986589666184 %\n",
      "第7通道与第6通道百分比差： 1.7740068892984913 %\n",
      "第8通道与第7通道百分比差： 0.200672288526132 %\n",
      "第9通道与第8通道百分比差： 2.6012563627243126 %\n",
      "第10通道与第9通道百分比差： 3.473540850077308 %\n",
      "第1通道与第1通道百分比差： 0.0 %\n",
      "第2通道与第1通道百分比差： 4.51911448726695 %\n",
      "第3通道与第1通道百分比差： 4.502166279152197 %\n",
      "第4通道与第1通道百分比差： 10.626303071090847 %\n",
      "第5通道与第1通道百分比差： 14.290999665007709 %\n",
      "第6通道与第1通道百分比差： 19.253499543657767 %\n",
      "第7通道与第1通道百分比差： 21.3690648412918 %\n",
      "第8通道与第1通道百分比差： 21.612618921271583 %\n",
      "第9通道与第1通道百分比差： 24.776074908836833 %\n",
      "第10通道与第1通道百分比差： 29.11022284191834 %\n"
     ]
    }
   ],
   "source": [
    "if __name__ == '__main__':\n",
    "    main()"
   ]
  },
  {
   "cell_type": "code",
   "execution_count": 96,
   "id": "ffc5d040",
   "metadata": {},
   "outputs": [
    {
     "data": {
      "text/plain": [
       "11.544629838190186"
      ]
     },
     "execution_count": 96,
     "metadata": {},
     "output_type": "execute_result"
    }
   ],
   "source": [
    "a = [10, 20]\n",
    "random.uniform(a[0], a[1])"
   ]
  },
  {
   "cell_type": "code",
   "execution_count": 97,
   "id": "75650478",
   "metadata": {},
   "outputs": [],
   "source": [
    "b = [random.uniform(a[0], a[1])  for i in range(5)]"
   ]
  },
  {
   "cell_type": "code",
   "execution_count": 98,
   "id": "8d17d2b8",
   "metadata": {},
   "outputs": [
    {
     "data": {
      "text/plain": [
       "[15.72807383443569,\n",
       " 14.580500105146312,\n",
       " 14.425595778435738,\n",
       " 15.924703727034343,\n",
       " 10.77889006285918]"
      ]
     },
     "execution_count": 98,
     "metadata": {},
     "output_type": "execute_result"
    }
   ],
   "source": [
    "b"
   ]
  },
  {
   "cell_type": "code",
   "execution_count": 99,
   "id": "9788625c",
   "metadata": {},
   "outputs": [],
   "source": [
    "c = [5 -2 for i in range(4)]"
   ]
  },
  {
   "cell_type": "code",
   "execution_count": 100,
   "id": "81909e6e",
   "metadata": {},
   "outputs": [
    {
     "data": {
      "text/plain": [
       "[3, 3, 3, 3]"
      ]
     },
     "execution_count": 100,
     "metadata": {},
     "output_type": "execute_result"
    }
   ],
   "source": [
    "c"
   ]
  },
  {
   "cell_type": "code",
   "execution_count": 1,
   "id": "898f72e4",
   "metadata": {},
   "outputs": [],
   "source": [
    "import torch"
   ]
  },
  {
   "cell_type": "code",
   "execution_count": 2,
   "id": "9554352c",
   "metadata": {},
   "outputs": [],
   "source": [
    "a = torch.tensor([1, 2, 3, 4])"
   ]
  },
  {
   "cell_type": "code",
   "execution_count": 3,
   "id": "499b4853",
   "metadata": {},
   "outputs": [
    {
     "data": {
      "text/plain": [
       "tensor([-1,  0,  1,  2])"
      ]
     },
     "execution_count": 3,
     "metadata": {},
     "output_type": "execute_result"
    }
   ],
   "source": [
    "a -2"
   ]
  },
  {
   "cell_type": "code",
   "execution_count": null,
   "id": "5b11cad9",
   "metadata": {},
   "outputs": [],
   "source": []
  }
 ],
 "metadata": {
  "kernelspec": {
   "display_name": "Python 3 (ipykernel)",
   "language": "python",
   "name": "python3"
  },
  "language_info": {
   "codemirror_mode": {
    "name": "ipython",
    "version": 3
   },
   "file_extension": ".py",
   "mimetype": "text/x-python",
   "name": "python",
   "nbconvert_exporter": "python",
   "pygments_lexer": "ipython3",
   "version": "3.11.4"
  }
 },
 "nbformat": 4,
 "nbformat_minor": 5
}
