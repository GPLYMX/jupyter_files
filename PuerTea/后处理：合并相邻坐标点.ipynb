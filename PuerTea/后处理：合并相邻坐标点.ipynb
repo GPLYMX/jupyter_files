{
 "cells": [
  {
   "cell_type": "code",
   "execution_count": 1,
   "id": "21494cb8",
   "metadata": {},
   "outputs": [],
   "source": [
    "import numpy as np"
   ]
  },
  {
   "cell_type": "code",
   "execution_count": 2,
   "id": "503d34de",
   "metadata": {},
   "outputs": [],
   "source": [
    "coord = [(0, 2404, 2120, 0), (0, 2558, 2066, 0), (0, 2070, 1846, 0), (0, 1710, 1782, 0), (0, 2636, 1848, 0), (0, 2334, 1750, 0), (0, 2188, 1752, 0), (0, 1866, 1740, 0), (0, 2760, 1730, 0), (0, 2186, 1708, 0), (0, 2620, 1688, 0), (0, 2486, 1666, 0), (0, 1290, 1764, 0), (0, 2516, 1644, 0), (0, 1526, 1526, 0), (0, 1554, 1438, 0), (0, 1876, 1388, 0), (0, 434, 1216, 0), (0, 958, 1156, 0), (0, 2094, 1020, 0), (0, 514, 974, 0), (0, 1458, 710, 0), (0, 1196, 724, 0), (0, 486, 686, 0), (0, 2212, 764, 0), (0, 1694, 676, 0), (0, 1434, 398, 0)]"
   ]
  },
  {
   "cell_type": "code",
   "execution_count": 12,
   "id": "8848dc70",
   "metadata": {},
   "outputs": [
    {
     "data": {
      "text/plain": [
       "27"
      ]
     },
     "execution_count": 12,
     "metadata": {},
     "output_type": "execute_result"
    }
   ],
   "source": [
    "len(coord)"
   ]
  },
  {
   "cell_type": "code",
   "execution_count": 17,
   "id": "387a5093",
   "metadata": {},
   "outputs": [
    {
     "name": "stdout",
     "output_type": "stream",
     "text": [
      "合并后的坐标： 0\n"
     ]
    }
   ],
   "source": [
    "import math\n",
    "\n",
    "def distance(point1, point2):\n",
    "    \"\"\"\n",
    "    计算两个点之间的欧式距离\n",
    "    \"\"\"\n",
    "    return math.sqrt((point1[1] - point2[1])**2 + (point1[2] - point2[2])**2 + (point1[3] - point2[3])**2)\n",
    "\n",
    "def merge_coordinates(coordinates, threshold):\n",
    "    \"\"\"\n",
    "    合并距离小于阈值的坐标\n",
    "    \"\"\"\n",
    "    merged_coordinates = []\n",
    "    merged_indices = set()\n",
    "\n",
    "    for i in range(len(coordinates)):\n",
    "        if i not in merged_indices:\n",
    "            # 将当前坐标加入到合并坐标中\n",
    "            merged_indices.add(i)\n",
    "            merged_point = list(coordinates[i])\n",
    "            count = 1\n",
    "\n",
    "            # 寻找距离小于阈值的其他坐标并合并\n",
    "            for j in range(i+1, len(coordinates)):\n",
    "                if j not in merged_indices:\n",
    "                    if distance(coordinates[i], coordinates[j]) < threshold:\n",
    "                        merged_point[1] += coordinates[j][1]\n",
    "                        merged_point[2] += coordinates[j][2]\n",
    "                        count += 1\n",
    "                        merged_indices.add(j)\n",
    "\n",
    "            # 计算中点坐标\n",
    "            merged_point[1] /= count\n",
    "            merged_point[2] /= count\n",
    "\n",
    "            merged_coordinates.append(tuple(merged_point))\n",
    "\n",
    "    return merged_coordinates\n",
    "\n",
    "# 示例坐标列表\n",
    "coordinates = [(1, 1, 2, 3), (2, 4, 5, 6), (3, 7, 8, 9), (4, 3, 4, 5), (5, 1, 2, 3)]\n",
    "\n",
    "# 设置阈值\n",
    "threshold = 100\n",
    "coord = []\n",
    "# 合并坐标\n",
    "merged = merge_coordinates(coord, threshold)\n",
    "\n",
    "# 打印合并后的坐标\n",
    "print(\"合并后的坐标：\", len(merged))\n"
   ]
  },
  {
   "cell_type": "code",
   "execution_count": 11,
   "id": "f88fa7e1",
   "metadata": {},
   "outputs": [
    {
     "data": {
      "text/plain": [
       "19"
      ]
     },
     "execution_count": 11,
     "metadata": {},
     "output_type": "execute_result"
    }
   ],
   "source": [
    "len(merge_coordinates(coord, 200))"
   ]
  },
  {
   "cell_type": "code",
   "execution_count": 3,
   "id": "d116bfbf",
   "metadata": {},
   "outputs": [],
   "source": [
    "import numpy as np"
   ]
  },
  {
   "cell_type": "code",
   "execution_count": 18,
   "id": "321381c1",
   "metadata": {},
   "outputs": [],
   "source": [
    "a = np.array([[1, 2, 34], [22, 111, 555]])"
   ]
  },
  {
   "cell_type": "code",
   "execution_count": 19,
   "id": "73ada228",
   "metadata": {},
   "outputs": [
    {
     "data": {
      "text/plain": [
       "array([[  1,   2,  34],\n",
       "       [ 22, 111, 555]])"
      ]
     },
     "execution_count": 19,
     "metadata": {},
     "output_type": "execute_result"
    }
   ],
   "source": [
    "a"
   ]
  },
  {
   "cell_type": "code",
   "execution_count": 20,
   "id": "c825f612",
   "metadata": {},
   "outputs": [],
   "source": [
    "a = a[::-1, ::-1]"
   ]
  },
  {
   "cell_type": "code",
   "execution_count": 21,
   "id": "01a8d765",
   "metadata": {},
   "outputs": [
    {
     "data": {
      "text/plain": [
       "array([[555, 111,  22],\n",
       "       [ 34,   2,   1]])"
      ]
     },
     "execution_count": 21,
     "metadata": {},
     "output_type": "execute_result"
    }
   ],
   "source": [
    "a"
   ]
  },
  {
   "cell_type": "code",
   "execution_count": 14,
   "id": "819971b3",
   "metadata": {},
   "outputs": [],
   "source": [
    "a[0:2, :] = 0"
   ]
  },
  {
   "cell_type": "code",
   "execution_count": 15,
   "id": "63e89d9b",
   "metadata": {},
   "outputs": [
    {
     "data": {
      "text/plain": [
       "array([[0, 0, 0],\n",
       "       [0, 0, 0]])"
      ]
     },
     "execution_count": 15,
     "metadata": {},
     "output_type": "execute_result"
    }
   ],
   "source": [
    "a"
   ]
  },
  {
   "cell_type": "code",
   "execution_count": 16,
   "id": "d1b843f8",
   "metadata": {},
   "outputs": [],
   "source": [
    "a[-3:1, :] = 1 "
   ]
  },
  {
   "cell_type": "code",
   "execution_count": 17,
   "id": "fd4c5744",
   "metadata": {},
   "outputs": [
    {
     "data": {
      "text/plain": [
       "array([[1, 1, 1],\n",
       "       [0, 0, 0]])"
      ]
     },
     "execution_count": 17,
     "metadata": {},
     "output_type": "execute_result"
    }
   ],
   "source": [
    "a"
   ]
  },
  {
   "cell_type": "code",
   "execution_count": 22,
   "id": "4156a390",
   "metadata": {},
   "outputs": [
    {
     "name": "stdout",
     "output_type": "stream",
     "text": [
      "(2, 0)\n"
     ]
    }
   ],
   "source": [
    "print(a[:, 3:5].shape)"
   ]
  },
  {
   "cell_type": "code",
   "execution_count": 23,
   "id": "a8c11ef3",
   "metadata": {},
   "outputs": [
    {
     "data": {
      "text/plain": [
       "array([[555, 111,  22],\n",
       "       [ 34,   2,   1]])"
      ]
     },
     "execution_count": 23,
     "metadata": {},
     "output_type": "execute_result"
    }
   ],
   "source": [
    "a"
   ]
  },
  {
   "cell_type": "code",
   "execution_count": 24,
   "id": "3d4a04ea",
   "metadata": {},
   "outputs": [],
   "source": [
    "b = np.array([[0, 0, 1], [1, 0, 0]])"
   ]
  },
  {
   "cell_type": "code",
   "execution_count": 28,
   "id": "ee358476",
   "metadata": {},
   "outputs": [],
   "source": [
    "a = np.logical_or(a, b)"
   ]
  },
  {
   "cell_type": "code",
   "execution_count": 29,
   "id": "fd4ca487",
   "metadata": {},
   "outputs": [
    {
     "data": {
      "text/plain": [
       "array([[ True,  True,  True],\n",
       "       [ True,  True,  True]])"
      ]
     },
     "execution_count": 29,
     "metadata": {},
     "output_type": "execute_result"
    }
   ],
   "source": [
    "a"
   ]
  },
  {
   "cell_type": "code",
   "execution_count": null,
   "id": "38f5367f",
   "metadata": {},
   "outputs": [],
   "source": []
  }
 ],
 "metadata": {
  "kernelspec": {
   "display_name": "Python 3 (ipykernel)",
   "language": "python",
   "name": "python3"
  },
  "language_info": {
   "codemirror_mode": {
    "name": "ipython",
    "version": 3
   },
   "file_extension": ".py",
   "mimetype": "text/x-python",
   "name": "python",
   "nbconvert_exporter": "python",
   "pygments_lexer": "ipython3",
   "version": "3.11.4"
  }
 },
 "nbformat": 4,
 "nbformat_minor": 5
}
