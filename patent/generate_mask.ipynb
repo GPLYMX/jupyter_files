{
 "cells": [
  {
   "cell_type": "markdown",
   "id": "df2104ed",
   "metadata": {},
   "source": [
    "## 生成总掩码图"
   ]
  },
  {
   "cell_type": "code",
   "execution_count": 2,
   "id": "8e36a39d",
   "metadata": {},
   "outputs": [
    {
     "data": {
      "text/plain": [
       "True"
      ]
     },
     "execution_count": 2,
     "metadata": {},
     "output_type": "execute_result"
    }
   ],
   "source": [
    "import json\n",
    "import cv2\n",
    "import numpy as np\n",
    "\n",
    "def generate_mask_from_json(json_file, image_shape):\n",
    "    with open(json_file, 'r') as f:\n",
    "        data = json.load(f)\n",
    "    \n",
    "    mask = np.zeros(image_shape[:2], dtype=np.uint8)\n",
    "    \n",
    "    for shape in data['shapes']:\n",
    "        label = shape['label']\n",
    "        points = np.array(shape['points'], dtype=np.int32)\n",
    "        cv2.fillPoly(mask, [points], color=(255, 255, 255))\n",
    "    \n",
    "    # Resize the mask to match the original image size\n",
    "    mask = cv2.resize(mask, (image_shape[1], image_shape[0]), interpolation=cv2.INTER_NEAREST)\n",
    "    \n",
    "    return mask\n",
    "\n",
    "# Example usage:\n",
    "json_file = r'demo.json'  # Replace with the path to your JSON file\n",
    "original_image = cv2.imread(r'demo.png')  # Example original image\n",
    "image_shape = original_image.shape  # Get the shape of the original image\n",
    "mask = generate_mask_from_json(json_file, image_shape)\n",
    "\n",
    "# Save or display the generated mask\n",
    "cv2.imwrite('mask.png', mask)\n",
    "# cv2.imshow('Mask', mask)\n",
    "# cv2.waitKey(0)\n",
    "# cv2.destroyAllWindows()\n"
   ]
  },
  {
   "cell_type": "markdown",
   "id": "38ca3064",
   "metadata": {},
   "source": [
    "## 每一个连通域单独生成一个掩码图"
   ]
  },
  {
   "cell_type": "code",
   "execution_count": 1,
   "id": "75e36c61",
   "metadata": {},
   "outputs": [],
   "source": [
    "import json\n",
    "import cv2\n",
    "import numpy as np\n",
    "\n",
    "def generate_masks_from_json(json_file, image_shape):\n",
    "    with open(json_file, 'r') as f:\n",
    "        data = json.load(f)\n",
    "    \n",
    "    original_mask = np.zeros(image_shape[:2], dtype=np.uint8)\n",
    "    \n",
    "    for shape in data['shapes']:\n",
    "        label = shape['label']\n",
    "        points = np.array(shape['points'], dtype=np.int32)\n",
    "        cv2.fillPoly(original_mask, [points], color=(255, 255, 255))\n",
    "    \n",
    "    # 连通域分析\n",
    "    num_labels, labels, stats, centroids = cv2.connectedComponentsWithStats(original_mask, connectivity=8)\n",
    "    \n",
    "    # 生成每个连通域的掩码图\n",
    "    masks = []\n",
    "    for label_id in range(1, num_labels):  # 跳过背景标签\n",
    "        mask = np.zeros_like(original_mask)\n",
    "        mask[labels == label_id] = 255\n",
    "        masks.append(mask)\n",
    "    \n",
    "    return masks\n",
    "\n",
    "# Example usage:\n",
    "json_file = r'demo.json'  # Replace with the path to your JSON file\n",
    "original_image = cv2.imread(r'demo.png')   # Example original image\n",
    "image_shape = original_image.shape  # Get the shape of the original image\n",
    "masks = generate_masks_from_json(json_file, image_shape)\n",
    "\n",
    "# Save or display the generated masks\n",
    "for idx, mask in enumerate(masks):\n",
    "    cv2.imwrite(f'mask_{idx}.png', mask)\n",
    "    # cv2.imshow(f'Mask {idx}', mask)\n",
    "    # cv2.waitKey(0)\n",
    "    # cv2.destroyAllWindows()\n"
   ]
  },
  {
   "cell_type": "markdown",
   "id": "dd30dea0",
   "metadata": {},
   "source": [
    "## 子连通域内包含原始像素"
   ]
  },
  {
   "cell_type": "code",
   "execution_count": 2,
   "id": "802722af",
   "metadata": {},
   "outputs": [],
   "source": [
    "import json\n",
    "import cv2\n",
    "import numpy as np\n",
    "\n",
    "def generate_masks_from_json(json_file, original_image):\n",
    "    with open(json_file, 'r') as f:\n",
    "        data = json.load(f)\n",
    "    \n",
    "    original_mask = np.zeros(original_image.shape[:2], dtype=np.uint8)\n",
    "    \n",
    "    for shape in data['shapes']:\n",
    "        label = shape['label']\n",
    "        points = np.array(shape['points'], dtype=np.int32)\n",
    "        cv2.fillPoly(original_mask, [points], color=(255, 255, 255))\n",
    "    \n",
    "    # 连通域分析\n",
    "    num_labels, labels, stats, centroids = cv2.connectedComponentsWithStats(original_mask, connectivity=8)\n",
    "    \n",
    "    # 生成每个连通域的掩码图\n",
    "    masks = []\n",
    "    for label_id in range(1, num_labels):  # 跳过背景标签\n",
    "        mask = np.zeros_like(original_image)\n",
    "        mask[labels == label_id] = original_image[labels == label_id]\n",
    "        masks.append(mask)\n",
    "    \n",
    "    return masks\n",
    "\n",
    "# Example usage:\n",
    "json_file = 'demo.json'  # Replace with the path to your JSON file\n",
    "original_image = cv2.imread('demo.png')  # Example original image\n",
    "masks = generate_masks_from_json(json_file, original_image)\n",
    "\n",
    "# Save or display the generated masks\n",
    "for idx, mask in enumerate(masks):\n",
    "    cv2.imwrite(f'mask_{idx}.png', mask)\n",
    "    # cv2.imshow(f'Mask {idx}', mask)\n",
    "    # cv2.waitKey(0)\n",
    "    # cv2.destroyAllWindows()\n"
   ]
  },
  {
   "cell_type": "code",
   "execution_count": 4,
   "id": "1c8c7da2",
   "metadata": {},
   "outputs": [],
   "source": [
    "import json\n",
    "import cv2\n",
    "import numpy as np\n",
    "\n",
    "def generate_masks_from_json(json_file, original_image):\n",
    "    with open(json_file, 'r') as f:\n",
    "        data = json.load(f)\n",
    "    \n",
    "    original_mask = np.zeros(original_image.shape[:2], dtype=np.uint8)\n",
    "    \n",
    "    for shape in data['shapes']:\n",
    "        label = shape['label']\n",
    "        points = np.array(shape['points'], dtype=np.int32)\n",
    "        cv2.fillPoly(original_mask, [points], color=(255, 255, 255))\n",
    "    \n",
    "    # 连通域分析\n",
    "    num_labels, labels, stats, centroids = cv2.connectedComponentsWithStats(original_mask, connectivity=8)\n",
    "    \n",
    "    # 生成每个连通域的掩码图\n",
    "    masks = []\n",
    "    for label_id in range(1, num_labels):  # 跳过背景标签\n",
    "        mask = np.zeros_like(original_image)\n",
    "        mask[labels == label_id] = original_image[labels == label_id]\n",
    "        masks.append(mask)\n",
    "    \n",
    "    return masks\n",
    "\n",
    "# Example usage:\n",
    "json_file = 'demo.json'  # Replace with the path to your JSON file\n",
    "original_image = cv2.imread('demo.png')  # Example original image\n",
    "masks = generate_masks_from_json(json_file, original_image)\n",
    "\n",
    "# Save or display the generated masks\n",
    "for idx, mask in enumerate(masks):\n",
    "    cv2.imwrite(f'mask_{idx}.png', 0.7*mask + 0.3*original_image)\n",
    "    # cv2.imshow(f'Mask {idx}', mask)\n",
    "    # cv2.waitKey(0)\n",
    "    # cv2.destroyAllWindows()\n"
   ]
  },
  {
   "cell_type": "code",
   "execution_count": null,
   "id": "629c2b5b",
   "metadata": {},
   "outputs": [],
   "source": []
  }
 ],
 "metadata": {
  "kernelspec": {
   "display_name": "Python 3 (ipykernel)",
   "language": "python",
   "name": "python3"
  },
  "language_info": {
   "codemirror_mode": {
    "name": "ipython",
    "version": 3
   },
   "file_extension": ".py",
   "mimetype": "text/x-python",
   "name": "python",
   "nbconvert_exporter": "python",
   "pygments_lexer": "ipython3",
   "version": "3.11.4"
  }
 },
 "nbformat": 4,
 "nbformat_minor": 5
}
