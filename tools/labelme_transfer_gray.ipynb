{
 "cells": [
  {
   "cell_type": "markdown",
   "id": "161557d2",
   "metadata": {},
   "source": [
    "## 代码说明：将聚类后的灰度图与labelme的json文件相互转化，其中灰度图的每一个像素都是整数值，代表了相关的类别"
   ]
  },
  {
   "cell_type": "code",
   "execution_count": 46,
   "id": "25c978aa",
   "metadata": {},
   "outputs": [],
   "source": [
    "import numpy as np\n",
    "import json\n",
    "import cv2\n",
    "import xml.etree.ElementTree as ET\n",
    "from PIL import Image, ImageDraw\n",
    "from matplotlib import pyplot as plt"
   ]
  },
  {
   "cell_type": "code",
   "execution_count": 39,
   "id": "0ba8b6df",
   "metadata": {},
   "outputs": [],
   "source": [
    "# 示例灰度图\n",
    "gray_image = np.array([\n",
    "    [0, 1, 1, 1, 1],\n",
    "    [2, 0, 1, 1, 1],\n",
    "    [2, 0, 2, 1, 2],\n",
    "    [0, 0, 2, 2, 2],\n",
    "    [0, 0, 2, 2, 2],\n",
    "], dtype=np.uint8)\n",
    "\n",
    "# 假设类别映射字典，将整数值映射到标签名称\n",
    "class_mapping = {\n",
    "    0: \"background\",\n",
    "    1: \"tea\",\n",
    "    2: \"impurity\",\n",
    "    # 添加更多的类别映射\n",
    "}"
   ]
  },
  {
   "cell_type": "code",
   "execution_count": 40,
   "id": "2b98490c",
   "metadata": {},
   "outputs": [],
   "source": [
    "# 将灰度图转换为 LabelMe 格式\n",
    "def gray_to_labelme(gray_image, class_mapping):\n",
    "#     gray_image = cv2.imread(gray_image_root)\n",
    "#     gray_image = np.array(gray_image)\n",
    "\n",
    "    height, width = gray_image.shape\n",
    "    labelme_data = {\n",
    "        \"version\": \"5.3.1\",\n",
    "        \"flags\": {},\n",
    "        \"shapes\": [],\n",
    "        \"imagePath\": gray_image,  # 请替换成实际的图像文件名\n",
    "        \"imageData\": None,\n",
    "        \"imageHeight\": height,\n",
    "        \"imageWidth\": width\n",
    "    }\n",
    "\n",
    "    for label_value, label_name in class_mapping.items():\n",
    "        if label_name == \"background\":\n",
    "            continue\n",
    "\n",
    "        mask = (gray_image == label_value).astype(np.uint8)\n",
    "        print(mask)\n",
    "        contours, _ = cv2.findContours(mask, cv2.RETR_EXTERNAL, cv2.CHAIN_APPROX_SIMPLE)\n",
    "\n",
    "        for contour in contours:\n",
    "            points = contour.squeeze().tolist()\n",
    "            shape_data = {\n",
    "                \"label\": label_name,\n",
    "                \"points\": points,\n",
    "                \"group_id\": None,\n",
    "                \"shape_type\": \"polygon\",\n",
    "                \"flags\": {},\n",
    "            }\n",
    "            labelme_data[\"shapes\"].append(shape_data)\n",
    "    \n",
    "    # 将数据保存为JSON文件\n",
    "#     with open('labelme_data.json', 'w') as json_file:\n",
    "#         json.dump(labelme_data, json_file)\n",
    "        \n",
    "    return labelme_data"
   ]
  },
  {
   "cell_type": "code",
   "execution_count": 41,
   "id": "05ae380c",
   "metadata": {},
   "outputs": [
    {
     "name": "stdout",
     "output_type": "stream",
     "text": [
      "[[0 1 1 1 1]\n",
      " [0 0 1 1 1]\n",
      " [0 0 0 1 0]\n",
      " [0 0 0 0 0]\n",
      " [0 0 0 0 0]]\n",
      "[[0 0 0 0 0]\n",
      " [1 0 0 0 0]\n",
      " [1 0 1 0 1]\n",
      " [0 0 1 1 1]\n",
      " [0 0 1 1 1]]\n",
      "{'version': '5.3.1', 'flags': {}, 'shapes': [{'label': 'tea', 'points': [[1, 0], [3, 2], [4, 1], [4, 0]], 'group_id': None, 'shape_type': 'polygon', 'flags': {}}, {'label': 'impurity', 'points': [[2, 2], [2, 4], [4, 4], [4, 2], [3, 3]], 'group_id': None, 'shape_type': 'polygon', 'flags': {}}, {'label': 'impurity', 'points': [[0, 1], [0, 2]], 'group_id': None, 'shape_type': 'polygon', 'flags': {}}], 'imagePath': array([[0, 1, 1, 1, 1],\n",
      "       [2, 0, 1, 1, 1],\n",
      "       [2, 0, 2, 1, 2],\n",
      "       [0, 0, 2, 2, 2],\n",
      "       [0, 0, 2, 2, 2]], dtype=uint8), 'imageData': None, 'imageHeight': 5, 'imageWidth': 5}\n"
     ]
    }
   ],
   "source": [
    "# 示例转换\n",
    "labelme_data = gray_to_labelme(gray_image, class_mapping)\n",
    "print(labelme_data)"
   ]
  },
  {
   "cell_type": "code",
   "execution_count": 45,
   "id": "54af764f",
   "metadata": {},
   "outputs": [
    {
     "name": "stdout",
     "output_type": "stream",
     "text": [
      "{'label': '1', 'points': [[458.48275862068976, 849.0], [379.1724137931035, 995.5517241379312], [342.9655172413793, 1228.3103448275863], [482.6206896551723, 1574.8620689655172], [674.0, 1309.344827586207], [596.4137931034484, 1054.1724137931035]], 'group_id': None, 'description': '', 'shape_type': 'polygon', 'flags': {}}\n",
      "{'label': '2', 'points': [[792.9655172413793, 974.8620689655172], [675.7241379310344, 1102.448275862069], [570.5517241379312, 1362.7931034482758], [699.8620689655172, 1626.5862068965519], [917.1034482758621, 1285.2068965517242]], 'group_id': None, 'description': '', 'shape_type': 'polygon', 'flags': {}}\n",
      "[[0 0 0 ... 0 0 0]\n",
      " [0 0 0 ... 0 0 0]\n",
      " [0 0 0 ... 0 0 0]\n",
      " ...\n",
      " [0 0 0 ... 0 0 0]\n",
      " [0 0 0 ... 0 0 0]\n",
      " [0 0 0 ... 0 0 0]]\n"
     ]
    }
   ],
   "source": [
    "def labelme_to_gray(labelme_json_root):\n",
    "    \"\"\"\n",
    "    读取labelme生成的json文件，然后转化成灰度图，灰度图中的数值代表像素点所属的类别\n",
    "    \"\"\"\n",
    "    # # 1. 解析LabelMe标注文件（JSON格式）\n",
    "    with open(labelme_json_root, 'r') as json_file:\n",
    "        labelme_data = json.load(json_file)\n",
    "\n",
    "    # 2. 获取图像尺寸\n",
    "    image_width = labelme_data['imageWidth']\n",
    "    image_height = labelme_data['imageHeight']\n",
    "\n",
    "    # 3. 创建灰度图\n",
    "    gray_image = Image.new('L', (image_width, image_height), 0)\n",
    "\n",
    "    # 4. 为每个对象分配类别值\n",
    "    category_mapping = {}  # 用于将类别名称映射到整数值\n",
    "    category_id = 1\n",
    "\n",
    "    for shape in labelme_data['shapes']:\n",
    "        print(shape)\n",
    "        category_name = shape['label']\n",
    "        if category_name not in category_mapping:\n",
    "            category_mapping[category_name] = category_id\n",
    "            category_id += 1\n",
    "\n",
    "        category_value = category_mapping[category_name]\n",
    "        if isinstance(shape['points'][0], list):\n",
    "        # 创建多边形的坐标列表\n",
    "            polygon_points = [(int(x), int(y)) for x, y in shape['points']]\n",
    "\n",
    "            # 使用PIL的绘图功能填充多边形区域\n",
    "            draw = ImageDraw.Draw(gray_image)\n",
    "            draw.polygon(polygon_points, fill=category_value)\n",
    "    # 5. 保存灰度图\n",
    "    gray_image = np.array(gray_image)\n",
    "    gray_image = Image.fromarray(gray_image)\n",
    "    # gray_image.save('output_gray_image.png')\n",
    "    return gray_image"
   ]
  },
  {
   "cell_type": "code",
   "execution_count": 43,
   "id": "19f2fa65",
   "metadata": {
    "pycharm": {
     "name": "#%%\n"
    }
   },
   "outputs": [],
   "source": [
    "gray_image = np.array([\n",
    "    [0, 1, 1, 1, 1],\n",
    "    [2, 0, 1, 1, 1],\n",
    "    [0, 0, 2, 1, 2],\n",
    "    [0, 0, 2, 2, 2],\n",
    "    [0, 0, 2, 2, 2],\n",
    "], dtype=np.uint8)"
   ]
  },
  {
   "cell_type": "code",
   "execution_count": 48,
   "id": "f3c835ec",
   "metadata": {},
   "outputs": [
    {
     "data": {
      "text/plain": [
       "<matplotlib.image.AxesImage at 0x22fd98eaad0>"
      ]
     },
     "execution_count": 48,
     "metadata": {},
     "output_type": "execute_result"
    },
    {
     "data": {
      "image/png": "[encoded data removed]",
      "text/plain": [
       "<Figure size 640x480 with 1 Axes>"
      ]
     },
     "metadata": {},
     "output_type": "display_data"
    }
   ],
   "source": [
    "a = plt.imread('output_gray_image.png')\n",
    "plt.imshow(a)"
   ]
  },
  {
   "cell_type": "code",
   "execution_count": 4,
   "id": "5277ff9a",
   "metadata": {},
   "outputs": [],
   "source": [
    "class_mapping = {\n",
    "    \"background\":0,\n",
    "    \"tea\":1,\n",
    "    2: \"impurity\",\n",
    "    # 添加更多的类别映射\n",
    "}"
   ]
  },
  {
   "cell_type": "code",
   "execution_count": 5,
   "id": "9ead9356",
   "metadata": {},
   "outputs": [
    {
     "data": {
      "text/plain": [
       "1"
      ]
     },
     "execution_count": 5,
     "metadata": {},
     "output_type": "execute_result"
    }
   ],
   "source": [
    "class_mapping['tea']"
   ]
  },
  {
   "cell_type": "code",
   "execution_count": null,
   "id": "220f78b6",
   "metadata": {},
   "outputs": [],
   "source": []
  }
 ],
 "metadata": {
  "kernelspec": {
   "display_name": "Python 3 (ipykernel)",
   "language": "python",
   "name": "python3"
  },
  "language_info": {
   "codemirror_mode": {
    "name": "ipython",
    "version": 3
   },
   "file_extension": ".py",
   "mimetype": "text/x-python",
   "name": "python",
   "nbconvert_exporter": "python",
   "pygments_lexer": "ipython3",
   "version": "3.11.4"
  }
 },
 "nbformat": 4,
 "nbformat_minor": 5
}
