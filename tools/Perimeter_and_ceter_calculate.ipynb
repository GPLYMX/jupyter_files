{
 "cells": [
  {
   "cell_type": "code",
   "execution_count": 4,
   "id": "57240a3d",
   "metadata": {
    "scrolled": false
   },
   "outputs": [
    {
     "name": "stdout",
     "output_type": "stream",
     "text": [
      "Region 1: Perimeter 59.94973564147949, Center (2, 2)\n",
      "Region 2: Perimeter 13.300563097000122, Center (4, 6)\n",
      "Region 3: Perimeter 6.0, Center (8, 3)\n"
     ]
    }
   ],
   "source": [
    "import cv2\n",
    "import numpy as np\n",
    "\n",
    "# 示例的 impurity_mask，假设在 CPU 上，已经扩大两倍\n",
    "impurity_mask = np.array([[1, 1, 1, 1, 1, 0, 0, 0, 0, 0, 0],\n",
    "                          [1, 1, 1, 0, 1, 0, 0, 0, 0, 0, 0],\n",
    "                          [1, 1, 1, 0, 1, 0, 1, 1, 1, 0, 0],\n",
    "                          [1, 1, 1, 0, 1, 0, 1, 1, 1, 0, 0],\n",
    "                          [1, 1, 1, 0, 1, 0, 1, 1, 1, 0, 0],\n",
    "                          [1, 1, 1, 0, 1, 0, 0, 0, 0, 0, 0],\n",
    "                          [1, 1, 1, 1, 1, 0, 0, 0, 0, 0, 0],\n",
    "                          [0, 0, 0, 0, 0, 0, 0, 0, 0, 0, 0],\n",
    "                          [1, 1, 1, 1, 0, 0, 0, 0, 0, 0, 0]], dtype=np.uint8)\n",
    "\n",
    "# 使用 OpenCV 的连通组件标记函数\n",
    "num_labels, labeled_image = cv2.connectedComponents(impurity_mask, connectivity=4)\n",
    "\n",
    "# 存储每个区域的位置、周长和中心位置\n",
    "regions = []\n",
    "\n",
    "# 遍历每个标记的区域\n",
    "for label in range(1, num_labels):\n",
    "    # 创建一个区域的掩码\n",
    "    region_mask = (labeled_image == label).astype(np.uint8)\n",
    "\n",
    "    # 计算区域的周长\n",
    "    perimeter = cv2.arcLength(np.argwhere(region_mask == 1).astype(np.float32), closed=True)\n",
    "\n",
    "    # 计算区域的重心\n",
    "    moments = cv2.moments(region_mask)\n",
    "    if moments[\"m00\"] != 0:\n",
    "        center_x = moments[\"m10\"] / moments[\"m00\"]\n",
    "        center_y = moments[\"m01\"] / moments[\"m00\"]\n",
    "        center = (center_x, center_y)\n",
    "\n",
    "        # 将重心坐标四舍五入到最接近的整数坐标\n",
    "        center = (round(center[0]), round(center[1]))\n",
    "\n",
    "        # 检查中心是否在连通域内，如果不在内部，则将其移动到最接近的内部像素点\n",
    "        if not region_mask[center[0], center[1]]:\n",
    "            inside_pixels = np.argwhere(region_mask == 1)\n",
    "            closest_pixel = inside_pixels[np.argmin(np.linalg.norm(inside_pixels - np.array(center).reshape(1, -1), axis=1))]\n",
    "            center = (closest_pixel[0], closest_pixel[1])\n",
    "    else:\n",
    "        # 如果区域没有像素，将中心位置设置为 (-1, -1)\n",
    "        center = (-1, -1)\n",
    "\n",
    "    regions.append({\n",
    "        \"perimeter\": perimeter,\n",
    "        \"center\": center\n",
    "    })\n",
    "\n",
    "# 打印每个区域的周长和中心位置\n",
    "for i, region in enumerate(regions):\n",
    "    print(f\"Region {i + 1}: Perimeter {region['perimeter']}, Center {region['center']}\")\n"
   ]
  },
  {
   "cell_type": "code",
   "execution_count": 135,
   "id": "47827fac",
   "metadata": {},
   "outputs": [
    {
     "data": {
      "image/png": "[encoded data removed]",
      "text/plain": [
       "<Figure size 640x480 with 1 Axes>"
      ]
     },
     "metadata": {},
     "output_type": "display_data"
    },
    {
     "name": "stdout",
     "output_type": "stream",
     "text": [
      "[[ 0  0 11  9 55]\n",
      " [ 0  0  5  7 30]\n",
      " [ 6  2  4  3 10]\n",
      " [ 0  8  4  1  4]]\n"
     ]
    },
    {
     "data": {
      "image/png": "[encoded data removed]",
      "text/plain": [
       "<Figure size 640x480 with 1 Axes>"
      ]
     },
     "metadata": {},
     "output_type": "display_data"
    },
    {
     "data": {
      "text/plain": [
       "[(1, 3), (7, 3), (1, 8)]"
      ]
     },
     "execution_count": 135,
     "metadata": {},
     "output_type": "execute_result"
    }
   ],
   "source": [
    "impurity_mask = np.array([[1, 1, 1, 1, 1, 0, 0, 0, 0, 0, 0],\n",
    "                          [1, 1, 1, 0, 1, 0, 0, 0, 0, 0, 0],\n",
    "                          [1, 1, 1, 0, 1, 0, 1, 1, 1, 0, 0],\n",
    "                          [1, 1, 1, 0, 1, 0, 1, 1, 1, 1, 0],\n",
    "                          [1, 1, 1, 0, 1, 0, 1, 1, 1, 0, 0],\n",
    "                          [1, 1, 1, 0, 1, 0, 0, 0, 0, 0, 0],\n",
    "                          [1, 1, 1, 1, 1, 0, 0, 0, 0, 0, 0],\n",
    "                          [0, 0, 0, 0, 0, 0, 0, 0, 0, 0, 0],\n",
    "                          [1, 1, 1, 1, 0, 0, 0, 0, 0, 0, 0]], dtype=np.uint8)\n",
    "plt.imshow(impurity_mask)\n",
    "plt.axis('off')\n",
    "plt.show()\n",
    "calculate_center(impurity_mask)"
   ]
  },
  {
   "cell_type": "code",
   "execution_count": 134,
   "id": "fdfb06e6",
   "metadata": {},
   "outputs": [],
   "source": [
    "import cv2\n",
    "import numpy as np\n",
    "import matplotlib.pyplot as plt\n",
    "from scipy.spatial.distance import cdist\n",
    "\n",
    "def calculate_center(gray_img):\n",
    "    \"\"\"\n",
    "    读取一张0、1二值灰度图，提出周长小的连通域，返回剩余连通域的中心点\n",
    "    \"\"\"\n",
    "    # 读取灰度图像\n",
    "    # gray_img = cv2.imread(r'D:\\mycodes\\tools\\pre_annotationV2\\output_gray_image.png', cv2.IMREAD_GRAYSCALE)\n",
    "\n",
    "    # 使用连通组件标记来标记和提取连通域\n",
    "    _, labels, stats, centroids = cv2.connectedComponentsWithStats(gray_img)\n",
    "    print(stats)\n",
    "\n",
    "    # 初始化变量来存储连通域的中心点坐标和最近的点坐标\n",
    "    connected_components_centers = []\n",
    "    closest_points = []\n",
    "\n",
    "    # 遍历每个连通域，跳过背景（标签为0）\n",
    "    for label in range(1, len(stats)):\n",
    "        # 获取连通域的中心点\n",
    "        cX, cY  = centroids[label]\n",
    "        cX, cY  = int(cX), int(cY)\n",
    "\n",
    "        # 获取当前连通域的像素坐标\n",
    "        pixels_in_component = np.argwhere(labels == label)\n",
    "\n",
    "        if labels[cY, cX]<=0:\n",
    "            # 计算中心点到该连通域内所有点的距离\n",
    "            distances = cdist(np.array([(cY, cX)]), pixels_in_component)\n",
    "\n",
    "            # 找到离中心点最近的点\n",
    "            min_distance_index = np.argmin(distances)\n",
    "            closest_point = tuple(pixels_in_component[min_distance_index])\n",
    "            closest_points.append(closest_point)\n",
    "            (cY, cX) = closest_point\n",
    "        connected_components_centers.append((cX, cY))\n",
    "\n",
    "    # # 将连通域和中心点绘制到图像上\n",
    "    labeled_image = gray_img\n",
    "\n",
    "    for center_point in connected_components_centers:\n",
    "        cv2.circle(labeled_image, center_point, 10, 4, -1)\n",
    "    # 显示图像\n",
    "    plt.imshow(labeled_image)\n",
    "    plt.axis('off')\n",
    "    plt.show()\n",
    "    return connected_components_centers"
   ]
  },
  {
   "cell_type": "code",
   "execution_count": 124,
   "id": "98620dc2",
   "metadata": {},
   "outputs": [
    {
     "name": "stdout",
     "output_type": "stream",
     "text": [
      "连通域 1 的周长为 623.0020868778229\n"
     ]
    }
   ],
   "source": [
    "import cv2\n",
    "import numpy as np\n",
    "\n",
    "# 读取灰度图像\n",
    "image = cv2.imread(r'D:\\mycodes\\tools\\pre_annotationV2\\output_gray_image.png', cv2.IMREAD_GRAYSCALE)\n",
    "\n",
    "# 阈值化图像，将像素值1设为255，以便进行连通域标记\n",
    "_, thresholded = cv2.threshold(image, 0, 255, cv2.THRESH_BINARY)\n",
    "\n",
    "# 使用连通组件标记来标记和提取连通域\n",
    "_, labels, _, _ = cv2.connectedComponentsWithStats(thresholded)\n",
    "\n",
    "# 定义一个函数来计算连通域的周长\n",
    "def calculate_contour_length(label_image, label):\n",
    "    mask = (label_image == label).astype(np.uint8)\n",
    "    contours, _ = cv2.findContours(mask, cv2.RETR_EXTERNAL, cv2.CHAIN_APPROX_SIMPLE)\n",
    "    contour_length = 0\n",
    "    \n",
    "    for contour in contours:\n",
    "        contour_length += cv2.arcLength(contour, closed=True)\n",
    "    \n",
    "    return contour_length\n",
    "\n",
    "# 假设要计算的连通域的标签值为 label\n",
    "label_to_calculate = 1  # 请替换为您要计算的连通域的标签值\n",
    "\n",
    "# 调用函数计算连通域的周长\n",
    "contour_length = calculate_contour_length(labels, label_to_calculate)\n",
    "\n",
    "print(f\"连通域 {label_to_calculate} 的周长为 {contour_length}\")\n"
   ]
  },
  {
   "cell_type": "code",
   "execution_count": 137,
   "id": "10efbc0f",
   "metadata": {},
   "outputs": [
    {
     "ename": "error",
     "evalue": "Unknown C++ exception from OpenCV code",
     "output_type": "error",
     "traceback": [
      "\u001b[1;31m---------------------------------------------------------------------------\u001b[0m",
      "\u001b[1;31merror\u001b[0m                                     Traceback (most recent call last)",
      "Cell \u001b[1;32mIn[137], line 11\u001b[0m\n\u001b[0;32m      8\u001b[0m _, thresholded \u001b[38;5;241m=\u001b[39m cv2\u001b[38;5;241m.\u001b[39mthreshold(image, \u001b[38;5;241m0\u001b[39m, \u001b[38;5;241m255\u001b[39m, cv2\u001b[38;5;241m.\u001b[39mTHRESH_BINARY)\n\u001b[0;32m     10\u001b[0m \u001b[38;5;66;03m# 使用连通组件标记来标记和提取连通域\u001b[39;00m\n\u001b[1;32m---> 11\u001b[0m _, labels, _, _ \u001b[38;5;241m=\u001b[39m cv2\u001b[38;5;241m.\u001b[39mconnectedComponentsWithStats(thresholded)\n\u001b[0;32m     13\u001b[0m \u001b[38;5;66;03m# 假设要膨胀的连通域的标签值为 label\u001b[39;00m\n\u001b[0;32m     14\u001b[0m label_to_dilate \u001b[38;5;241m=\u001b[39m \u001b[38;5;241m1\u001b[39m  \u001b[38;5;66;03m# 请替换为您要膨胀的连通域的标签值\u001b[39;00m\n",
      "\u001b[1;31merror\u001b[0m: Unknown C++ exception from OpenCV code"
     ]
    }
   ],
   "source": [
    "import cv2\n",
    "import numpy as np\n",
    "\n",
    "# 读取灰度图像\n",
    "image = cv2.imread(r'D:\\mycodes\\tools\\pre_annotationV2\\output_gray_image.png', cv2.IMREAD_GRAYSCALE)\n",
    "\n",
    "# 阈值化图像，将像素值1设为255，以便进行连通域标记\n",
    "_, thresholded = cv2.threshold(image, 0, 255, cv2.THRESH_BINARY)\n",
    "\n",
    "# 使用连通组件标记来标记和提取连通域\n",
    "_, labels, _, _ = cv2.connectedComponentsWithStats(thresholded)\n",
    "\n",
    "# 假设要膨胀的连通域的标签值为 label\n",
    "label_to_dilate = 1  # 请替换为您要膨胀的连通域的标签值\n",
    "\n",
    "# 创建一个膨胀核（kernel）\n",
    "kernel_size = 10  # 膨胀核的大小，可以根据需要调整\n",
    "kernel = np.ones((kernel_size, kernel_size), np.uint8)\n",
    "\n",
    "# 创建一个与标签图像大小相同的空白图像\n",
    "dilated_image = np.zeros_like(labels)\n",
    "\n",
    "# 找到要膨胀的连通域的像素坐标\n",
    "pixels_to_dilate = (labels == label_to_dilate)\n",
    "\n",
    "# 使用膨胀操作将连通域膨胀\n",
    "dilated_pixels = cv2.dilate(pixels_to_dilate.astype(np.uint8), kernel, iterations=1)\n",
    "\n",
    "# 更新膨胀后的图像\n",
    "dilated_image[dilated_pixels > 0] = label_to_dilate\n",
    "\n",
    "# 显示膨胀后的结果图像\n",
    "cv2.imshow('Dilated Image', dilated_image)\n",
    "cv2.waitKey(0)\n",
    "cv2.destroyAllWindows()\n"
   ]
  },
  {
   "cell_type": "code",
   "execution_count": null,
   "id": "401d8767",
   "metadata": {},
   "outputs": [],
   "source": []
  }
 ],
 "metadata": {
  "kernelspec": {
   "display_name": "Python 3 (ipykernel)",
   "language": "python",
   "name": "python3"
  },
  "language_info": {
   "codemirror_mode": {
    "name": "ipython",
    "version": 3
   },
   "file_extension": ".py",
   "mimetype": "text/x-python",
   "name": "python",
   "nbconvert_exporter": "python",
   "pygments_lexer": "ipython3",
   "version": "3.11.4"
  }
 },
 "nbformat": 4,
 "nbformat_minor": 5
}
