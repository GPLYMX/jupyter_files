{
 "cells": [
  {
   "cell_type": "code",
   "execution_count": 11,
   "id": "324fecac",
   "metadata": {},
   "outputs": [],
   "source": [
    "import math\n",
    "\n",
    "import cv2\n",
    "import numpy as np"
   ]
  },
  {
   "cell_type": "code",
   "execution_count": 75,
   "id": "b4266c47",
   "metadata": {},
   "outputs": [],
   "source": [
    "mask = np.zeros([13, 15])"
   ]
  },
  {
   "cell_type": "code",
   "execution_count": 76,
   "id": "ddf2721a",
   "metadata": {},
   "outputs": [
    {
     "data": {
      "text/plain": [
       "array([[0., 0., 0., 0., 0., 0., 0., 0., 0., 0., 0., 0., 0., 0., 0.],\n",
       "       [0., 0., 0., 0., 0., 0., 0., 0., 0., 0., 0., 0., 0., 0., 0.],\n",
       "       [0., 0., 0., 0., 0., 0., 0., 0., 0., 0., 0., 0., 0., 0., 0.],\n",
       "       [0., 0., 0., 0., 0., 0., 0., 0., 0., 0., 0., 0., 0., 0., 0.],\n",
       "       [0., 0., 0., 0., 0., 0., 0., 0., 0., 0., 0., 0., 0., 0., 0.],\n",
       "       [0., 0., 0., 0., 0., 0., 0., 0., 0., 0., 0., 0., 0., 0., 0.],\n",
       "       [0., 0., 0., 0., 0., 0., 0., 0., 0., 0., 0., 0., 0., 0., 0.],\n",
       "       [0., 0., 0., 0., 0., 0., 0., 0., 0., 0., 0., 0., 0., 0., 0.],\n",
       "       [0., 0., 0., 0., 0., 0., 0., 0., 0., 0., 0., 0., 0., 0., 0.],\n",
       "       [0., 0., 0., 0., 0., 0., 0., 0., 0., 0., 0., 0., 0., 0., 0.],\n",
       "       [0., 0., 0., 0., 0., 0., 0., 0., 0., 0., 0., 0., 0., 0., 0.],\n",
       "       [0., 0., 0., 0., 0., 0., 0., 0., 0., 0., 0., 0., 0., 0., 0.],\n",
       "       [0., 0., 0., 0., 0., 0., 0., 0., 0., 0., 0., 0., 0., 0., 0.]])"
      ]
     },
     "execution_count": 76,
     "metadata": {},
     "output_type": "execute_result"
    }
   ],
   "source": [
    "mask"
   ]
  },
  {
   "cell_type": "code",
   "execution_count": 77,
   "id": "b877bcc6",
   "metadata": {},
   "outputs": [],
   "source": [
    "height, width = mask.shape"
   ]
  },
  {
   "cell_type": "code",
   "execution_count": 78,
   "id": "51303392",
   "metadata": {},
   "outputs": [],
   "source": [
    "base_size = [4, 4]"
   ]
  },
  {
   "cell_type": "code",
   "execution_count": 79,
   "id": "b402788f",
   "metadata": {},
   "outputs": [],
   "source": [
    "base_h, base_w = base_size"
   ]
  },
  {
   "cell_type": "code",
   "execution_count": 86,
   "id": "9e6d9ba6",
   "metadata": {},
   "outputs": [],
   "source": [
    "iter_num_h, iter_num_w = math.ceil(height / base_h), math.ceil(width / base_w)\n",
    "boundary_pixel_num_h, boundary_pixel_num_w = height % base_h, width % base_w\n",
    "padding_pixel_num_h, padding_pixel_num_w = (base_h - boundary_pixel_num_h) % base_h, (base_w - boundary_pixel_num_w) % base_w"
   ]
  },
  {
   "cell_type": "code",
   "execution_count": 87,
   "id": "3c0e5482",
   "metadata": {},
   "outputs": [],
   "source": [
    "mask = np.pad(mask,((0, padding_pixel_num_h),(0,padding_pixel_num_w)),'constant',constant_values = (0,0)) "
   ]
  },
  {
   "cell_type": "code",
   "execution_count": 96,
   "id": "dec54743",
   "metadata": {
    "scrolled": true
   },
   "outputs": [
    {
     "name": "stdout",
     "output_type": "stream",
     "text": [
      "0 0\n",
      "0 4\n",
      "0 8\n",
      "0 12\n",
      "4 0\n",
      "4 4\n",
      "4 8\n",
      "4 12\n",
      "8 0\n",
      "8 4\n",
      "8 8\n",
      "8 12\n",
      "12 0\n",
      "12 4\n",
      "12 8\n",
      "12 12\n"
     ]
    }
   ],
   "source": [
    "for i in range(iter_num_h):\n",
    "    for j in range(iter_num_w):\n",
    "        offset_h, offset_w = i * base_h, j * base_w\n",
    "        temp_mask = mask[offset_h:base_h+offset_h, offset_w:base_w+offset_w]"
   ]
  },
  {
   "cell_type": "code",
   "execution_count": 99,
   "id": "f38690a8",
   "metadata": {},
   "outputs": [],
   "source": [
    "labelme_data = {\n",
    "        \"version\": \"5.3.1\",\n",
    "        \"flags\": {},\n",
    "        \"shapes\": [],\n",
    "        \"imagePath\": '00.png',  # 请替换成实际的图像文件名\n",
    "        \"imageData\": None,\n",
    "\n",
    "    }"
   ]
  },
  {
   "cell_type": "code",
   "execution_count": 100,
   "id": "22f5dd0b",
   "metadata": {},
   "outputs": [
    {
     "data": {
      "text/plain": [
       "{'version': '5.3.1',\n",
       " 'flags': {},\n",
       " 'shapes': [],\n",
       " 'imagePath': '00.png',\n",
       " 'imageData': None}"
      ]
     },
     "execution_count": 100,
     "metadata": {},
     "output_type": "execute_result"
    }
   ],
   "source": [
    "labelme_data"
   ]
  },
  {
   "cell_type": "code",
   "execution_count": 101,
   "id": "3e8ed6b5",
   "metadata": {},
   "outputs": [],
   "source": [
    "labelme_data['a'] = 33"
   ]
  },
  {
   "cell_type": "code",
   "execution_count": 102,
   "id": "5083c67f",
   "metadata": {},
   "outputs": [
    {
     "data": {
      "text/plain": [
       "{'version': '5.3.1',\n",
       " 'flags': {},\n",
       " 'shapes': [],\n",
       " 'imagePath': '00.png',\n",
       " 'imageData': None,\n",
       " 'a': 33}"
      ]
     },
     "execution_count": 102,
     "metadata": {},
     "output_type": "execute_result"
    }
   ],
   "source": [
    "labelme_data"
   ]
  }
 ],
 "metadata": {
  "kernelspec": {
   "display_name": "Python 3 (ipykernel)",
   "language": "python",
   "name": "python3"
  },
  "language_info": {
   "codemirror_mode": {
    "name": "ipython",
    "version": 3
   },
   "file_extension": ".py",
   "mimetype": "text/x-python",
   "name": "python",
   "nbconvert_exporter": "python",
   "pygments_lexer": "ipython3",
   "version": "3.11.4"
  }
 },
 "nbformat": 4,
 "nbformat_minor": 5
}
